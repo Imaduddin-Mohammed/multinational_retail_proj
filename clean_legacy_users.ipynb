{
 "cells": [
  {
   "cell_type": "code",
   "execution_count": 1,
   "metadata": {},
   "outputs": [],
   "source": [
    "from database_utils import DatabaseConnector\n",
    "from data_extraction import DataExtractor\n",
    "from dateutil.parser import parse\n",
    "import pandas as pd"
   ]
  },
  {
   "cell_type": "code",
   "execution_count": 2,
   "metadata": {},
   "outputs": [],
   "source": [
    "filepath = 'db_creds.yaml'\n",
    "connector = DatabaseConnector()\n",
    "extractor = DataExtractor()\n",
    "credentials = connector.read_db_creds(filepath)\n",
    "engine1, engine2 = connector.init_db_engine(credentials)"
   ]
  },
  {
   "cell_type": "code",
   "execution_count": 3,
   "metadata": {},
   "outputs": [
    {
     "data": {
      "text/plain": [
       "['legacy_store_details', 'legacy_users', 'orders_table']"
      ]
     },
     "execution_count": 3,
     "metadata": {},
     "output_type": "execute_result"
    }
   ],
   "source": [
    "tables_in_database = connector.list_db_tables(engine1)\n",
    "tables_in_database"
   ]
  },
  {
   "cell_type": "code",
   "execution_count": null,
   "metadata": {},
   "outputs": [
    {
     "name": "stdout",
     "output_type": "stream",
     "text": [
      "<class 'pandas.core.frame.DataFrame'>\n"
     ]
    }
   ],
   "source": [
    "table = extractor.read_rds_table('legacy_users', conn=engine1)"
   ]
  },
  {
   "cell_type": "code",
   "execution_count": null,
   "metadata": {},
   "outputs": [
    {
     "data": {
      "text/html": [
       "<div>\n",
       "<style scoped>\n",
       "    .dataframe tbody tr th:only-of-type {\n",
       "        vertical-align: middle;\n",
       "    }\n",
       "\n",
       "    .dataframe tbody tr th {\n",
       "        vertical-align: top;\n",
       "    }\n",
       "\n",
       "    .dataframe thead th {\n",
       "        text-align: right;\n",
       "    }\n",
       "</style>\n",
       "<table border=\"1\" class=\"dataframe\">\n",
       "  <thead>\n",
       "    <tr style=\"text-align: right;\">\n",
       "      <th></th>\n",
       "      <th>index</th>\n",
       "      <th>address</th>\n",
       "      <th>longitude</th>\n",
       "      <th>lat</th>\n",
       "      <th>locality</th>\n",
       "      <th>store_code</th>\n",
       "      <th>staff_numbers</th>\n",
       "      <th>opening_date</th>\n",
       "      <th>store_type</th>\n",
       "      <th>latitude</th>\n",
       "      <th>country_code</th>\n",
       "      <th>continent</th>\n",
       "    </tr>\n",
       "  </thead>\n",
       "  <tbody>\n",
       "    <tr>\n",
       "      <th>0</th>\n",
       "      <td>1</td>\n",
       "      <td>Flat 72W\\nSally isle\\nEast Deantown\\nE7B 8EB, ...</td>\n",
       "      <td>51.62907</td>\n",
       "      <td>None</td>\n",
       "      <td>High Wycombe</td>\n",
       "      <td>HI-9B97EE4E</td>\n",
       "      <td>34</td>\n",
       "      <td>1996-10-25</td>\n",
       "      <td>Local</td>\n",
       "      <td>-0.74934</td>\n",
       "      <td>GB</td>\n",
       "      <td>Europe</td>\n",
       "    </tr>\n",
       "    <tr>\n",
       "      <th>1</th>\n",
       "      <td>2</td>\n",
       "      <td>Heckerstraße 4/5\\n50491 Säckingen, Landshut</td>\n",
       "      <td>48.52961</td>\n",
       "      <td>None</td>\n",
       "      <td>Landshut</td>\n",
       "      <td>LA-0772C7B9</td>\n",
       "      <td>92</td>\n",
       "      <td>2013-04-12</td>\n",
       "      <td>Super Store</td>\n",
       "      <td>12.16179</td>\n",
       "      <td>DE</td>\n",
       "      <td>Europe</td>\n",
       "    </tr>\n",
       "    <tr>\n",
       "      <th>2</th>\n",
       "      <td>3</td>\n",
       "      <td>5 Harrison tunnel\\nSouth Lydia\\nWC9 2BE, Westbury</td>\n",
       "      <td>51.26</td>\n",
       "      <td>None</td>\n",
       "      <td>Westbury</td>\n",
       "      <td>WE-1DE82CEE</td>\n",
       "      <td>69</td>\n",
       "      <td>2014-01-02</td>\n",
       "      <td>Super Store</td>\n",
       "      <td>-2.1875</td>\n",
       "      <td>GB</td>\n",
       "      <td>Europe</td>\n",
       "    </tr>\n",
       "    <tr>\n",
       "      <th>3</th>\n",
       "      <td>4</td>\n",
       "      <td>Studio 6\\nStephen landing\\nSouth Simon\\nB77 2W...</td>\n",
       "      <td>53.0233</td>\n",
       "      <td>None</td>\n",
       "      <td>Belper</td>\n",
       "      <td>BE-18074576</td>\n",
       "      <td>35</td>\n",
       "      <td>2019-09-09</td>\n",
       "      <td>Local</td>\n",
       "      <td>-1.48119</td>\n",
       "      <td>GB</td>\n",
       "      <td>Europe</td>\n",
       "    </tr>\n",
       "    <tr>\n",
       "      <th>4</th>\n",
       "      <td>5</td>\n",
       "      <td>Flat 92u\\nChristian harbors\\nPort Charlotte\\nN...</td>\n",
       "      <td>53.38333</td>\n",
       "      <td>None</td>\n",
       "      <td>Gainsborough</td>\n",
       "      <td>GA-CAD01AC2</td>\n",
       "      <td>36</td>\n",
       "      <td>1995-05-15</td>\n",
       "      <td>Local</td>\n",
       "      <td>-0.76667</td>\n",
       "      <td>GB</td>\n",
       "      <td>Europe</td>\n",
       "    </tr>\n",
       "    <tr>\n",
       "      <th>...</th>\n",
       "      <td>...</td>\n",
       "      <td>...</td>\n",
       "      <td>...</td>\n",
       "      <td>...</td>\n",
       "      <td>...</td>\n",
       "      <td>...</td>\n",
       "      <td>...</td>\n",
       "      <td>...</td>\n",
       "      <td>...</td>\n",
       "      <td>...</td>\n",
       "      <td>...</td>\n",
       "      <td>...</td>\n",
       "    </tr>\n",
       "    <tr>\n",
       "      <th>446</th>\n",
       "      <td>446</td>\n",
       "      <td>Täschestraße 25\\n39039 Nördlingen, Kirchlengern</td>\n",
       "      <td>52.2</td>\n",
       "      <td>None</td>\n",
       "      <td>Kirchlengern</td>\n",
       "      <td>KI-78096E8C</td>\n",
       "      <td>61</td>\n",
       "      <td>2005-05-12</td>\n",
       "      <td>Super Store</td>\n",
       "      <td>8.63333</td>\n",
       "      <td>DE</td>\n",
       "      <td>Europe</td>\n",
       "    </tr>\n",
       "    <tr>\n",
       "      <th>447</th>\n",
       "      <td>447</td>\n",
       "      <td>K0ODETRLS3</td>\n",
       "      <td>K8CXLZDP07</td>\n",
       "      <td>UXMWDMX1LC</td>\n",
       "      <td>3VHFDNP8ET</td>\n",
       "      <td>9D4LK7X4LZ</td>\n",
       "      <td>D23PCWSM6S</td>\n",
       "      <td>36IIMAQD58</td>\n",
       "      <td>NN04B3F6UQ</td>\n",
       "      <td>JZP8MIJTPZ</td>\n",
       "      <td>B3EH2ZGQAV</td>\n",
       "      <td>1WZB1TE1HL</td>\n",
       "    </tr>\n",
       "    <tr>\n",
       "      <th>448</th>\n",
       "      <td>448</td>\n",
       "      <td>Studio 8\\nMoss mall\\nWest Linda\\nM0E 6XR, High...</td>\n",
       "      <td>51.62907</td>\n",
       "      <td>None</td>\n",
       "      <td>High Wycombe</td>\n",
       "      <td>HI-EEA7AE62</td>\n",
       "      <td>33</td>\n",
       "      <td>1998-05-14</td>\n",
       "      <td>Local</td>\n",
       "      <td>-0.74934</td>\n",
       "      <td>GB</td>\n",
       "      <td>Europe</td>\n",
       "    </tr>\n",
       "    <tr>\n",
       "      <th>449</th>\n",
       "      <td>449</td>\n",
       "      <td>Baumplatz 6\\n80114 Kötzting, Bretten</td>\n",
       "      <td>49.03685</td>\n",
       "      <td>None</td>\n",
       "      <td>Bretten</td>\n",
       "      <td>BR-662EC74C</td>\n",
       "      <td>35</td>\n",
       "      <td>2020-10-17</td>\n",
       "      <td>Local</td>\n",
       "      <td>8.70745</td>\n",
       "      <td>DE</td>\n",
       "      <td>Europe</td>\n",
       "    </tr>\n",
       "    <tr>\n",
       "      <th>450</th>\n",
       "      <td>450</td>\n",
       "      <td>Gotthilf-Rose-Straße 7/3\\n45457 Feuchtwangen, ...</td>\n",
       "      <td>50.64336</td>\n",
       "      <td>None</td>\n",
       "      <td>Bad Honnef</td>\n",
       "      <td>BA-B4AED588</td>\n",
       "      <td>36</td>\n",
       "      <td>2001-05-12</td>\n",
       "      <td>Local</td>\n",
       "      <td>7.2278</td>\n",
       "      <td>DE</td>\n",
       "      <td>eeEurope</td>\n",
       "    </tr>\n",
       "  </tbody>\n",
       "</table>\n",
       "<p>451 rows × 12 columns</p>\n",
       "</div>"
      ],
      "text/plain": [
       "     index                                            address   longitude  \\\n",
       "0        1  Flat 72W\\nSally isle\\nEast Deantown\\nE7B 8EB, ...    51.62907   \n",
       "1        2        Heckerstraße 4/5\\n50491 Säckingen, Landshut    48.52961   \n",
       "2        3  5 Harrison tunnel\\nSouth Lydia\\nWC9 2BE, Westbury       51.26   \n",
       "3        4  Studio 6\\nStephen landing\\nSouth Simon\\nB77 2W...     53.0233   \n",
       "4        5  Flat 92u\\nChristian harbors\\nPort Charlotte\\nN...    53.38333   \n",
       "..     ...                                                ...         ...   \n",
       "446    446    Täschestraße 25\\n39039 Nördlingen, Kirchlengern        52.2   \n",
       "447    447                                         K0ODETRLS3  K8CXLZDP07   \n",
       "448    448  Studio 8\\nMoss mall\\nWest Linda\\nM0E 6XR, High...    51.62907   \n",
       "449    449               Baumplatz 6\\n80114 Kötzting, Bretten    49.03685   \n",
       "450    450  Gotthilf-Rose-Straße 7/3\\n45457 Feuchtwangen, ...    50.64336   \n",
       "\n",
       "            lat      locality   store_code staff_numbers opening_date  \\\n",
       "0          None  High Wycombe  HI-9B97EE4E            34   1996-10-25   \n",
       "1          None      Landshut  LA-0772C7B9            92   2013-04-12   \n",
       "2          None      Westbury  WE-1DE82CEE            69   2014-01-02   \n",
       "3          None        Belper  BE-18074576            35   2019-09-09   \n",
       "4          None  Gainsborough  GA-CAD01AC2            36   1995-05-15   \n",
       "..          ...           ...          ...           ...          ...   \n",
       "446        None  Kirchlengern  KI-78096E8C            61   2005-05-12   \n",
       "447  UXMWDMX1LC    3VHFDNP8ET   9D4LK7X4LZ    D23PCWSM6S   36IIMAQD58   \n",
       "448        None  High Wycombe  HI-EEA7AE62            33   1998-05-14   \n",
       "449        None       Bretten  BR-662EC74C            35   2020-10-17   \n",
       "450        None    Bad Honnef  BA-B4AED588            36   2001-05-12   \n",
       "\n",
       "      store_type    latitude country_code   continent  \n",
       "0          Local    -0.74934           GB      Europe  \n",
       "1    Super Store    12.16179           DE      Europe  \n",
       "2    Super Store     -2.1875           GB      Europe  \n",
       "3          Local    -1.48119           GB      Europe  \n",
       "4          Local    -0.76667           GB      Europe  \n",
       "..           ...         ...          ...         ...  \n",
       "446  Super Store     8.63333           DE      Europe  \n",
       "447   NN04B3F6UQ  JZP8MIJTPZ   B3EH2ZGQAV  1WZB1TE1HL  \n",
       "448        Local    -0.74934           GB      Europe  \n",
       "449        Local     8.70745           DE      Europe  \n",
       "450        Local      7.2278           DE    eeEurope  \n",
       "\n",
       "[451 rows x 12 columns]"
      ]
     },
     "execution_count": 5,
     "metadata": {},
     "output_type": "execute_result"
    }
   ],
   "source": [
    "table"
   ]
  },
  {
   "cell_type": "code",
   "execution_count": null,
   "metadata": {},
   "outputs": [
    {
     "name": "stdout",
     "output_type": "stream",
     "text": [
      "<class 'pandas.core.frame.DataFrame'>\n",
      "RangeIndex: 451 entries, 0 to 450\n",
      "Data columns (total 12 columns):\n",
      " #   Column         Non-Null Count  Dtype \n",
      "---  ------         --------------  ----- \n",
      " 0   index          451 non-null    int64 \n",
      " 1   address        451 non-null    object\n",
      " 2   longitude      451 non-null    object\n",
      " 3   lat            11 non-null     object\n",
      " 4   locality       451 non-null    object\n",
      " 5   store_code     451 non-null    object\n",
      " 6   staff_numbers  451 non-null    object\n",
      " 7   opening_date   451 non-null    object\n",
      " 8   store_type     451 non-null    object\n",
      " 9   latitude       450 non-null    object\n",
      " 10  country_code   451 non-null    object\n",
      " 11  continent      451 non-null    object\n",
      "dtypes: int64(1), object(11)\n",
      "memory usage: 42.4+ KB\n"
     ]
    }
   ],
   "source": [
    "table.info()"
   ]
  },
  {
   "cell_type": "code",
   "execution_count": null,
   "metadata": {},
   "outputs": [],
   "source": [
    "df = table.copy()\n"
   ]
  },
  {
   "cell_type": "code",
   "execution_count": 1,
   "metadata": {},
   "outputs": [
    {
     "ename": "NameError",
     "evalue": "name 'df' is not defined",
     "output_type": "error",
     "traceback": [
      "\u001b[1;31m---------------------------------------------------------------------------\u001b[0m",
      "\u001b[1;31mNameError\u001b[0m                                 Traceback (most recent call last)",
      "Cell \u001b[1;32mIn[1], line 1\u001b[0m\n\u001b[1;32m----> 1\u001b[0m \u001b[43mdf\u001b[49m\u001b[38;5;241m.\u001b[39misna()\u001b[38;5;241m.\u001b[39mmean()\u001b[38;5;241m*\u001b[39m\u001b[38;5;241m100\u001b[39m\n",
      "\u001b[1;31mNameError\u001b[0m: name 'df' is not defined"
     ]
    }
   ],
   "source": [
    "df.isna().mean()*100"
   ]
  },
  {
   "cell_type": "code",
   "execution_count": 9,
   "metadata": {},
   "outputs": [
    {
     "ename": "AttributeError",
     "evalue": "'DataFrame' object has no attribute 'user_uuid'",
     "output_type": "error",
     "traceback": [
      "\u001b[1;31m---------------------------------------------------------------------------\u001b[0m",
      "\u001b[1;31mAttributeError\u001b[0m                            Traceback (most recent call last)",
      "\u001b[1;32m~\\AppData\\Local\\Temp\\ipykernel_17596\\3107725535.py\u001b[0m in \u001b[0;36m?\u001b[1;34m()\u001b[0m\n\u001b[0;32m      1\u001b[0m \u001b[0mnulls\u001b[0m \u001b[1;33m=\u001b[0m \u001b[1;33m[\u001b[0m\u001b[1;34m'NULL'\u001b[0m\u001b[1;33m]\u001b[0m\u001b[1;33m\u001b[0m\u001b[1;33m\u001b[0m\u001b[0m\n\u001b[1;32m----> 2\u001b[1;33m \u001b[0mmask\u001b[0m \u001b[1;33m=\u001b[0m \u001b[0mdf\u001b[0m\u001b[1;33m[\u001b[0m\u001b[0mdf\u001b[0m\u001b[1;33m.\u001b[0m\u001b[0muser_uuid\u001b[0m\u001b[1;33m.\u001b[0m\u001b[0misin\u001b[0m\u001b[1;33m(\u001b[0m\u001b[0mnulls\u001b[0m\u001b[1;33m)\u001b[0m\u001b[1;33m]\u001b[0m\u001b[1;33m\u001b[0m\u001b[1;33m\u001b[0m\u001b[0m\n\u001b[0m\u001b[0;32m      3\u001b[0m \u001b[0mmask\u001b[0m\u001b[1;33m\u001b[0m\u001b[1;33m\u001b[0m\u001b[0m\n",
      "\u001b[1;32mc:\\Users\\mohdi\\Miniconda3\\envs\\mrdc\\Lib\\site-packages\\pandas\\core\\generic.py\u001b[0m in \u001b[0;36m?\u001b[1;34m(self, name)\u001b[0m\n\u001b[0;32m   6289\u001b[0m             \u001b[1;32mand\u001b[0m \u001b[0mname\u001b[0m \u001b[1;32mnot\u001b[0m \u001b[1;32min\u001b[0m \u001b[0mself\u001b[0m\u001b[1;33m.\u001b[0m\u001b[0m_accessors\u001b[0m\u001b[1;33m\u001b[0m\u001b[1;33m\u001b[0m\u001b[0m\n\u001b[0;32m   6290\u001b[0m             \u001b[1;32mand\u001b[0m \u001b[0mself\u001b[0m\u001b[1;33m.\u001b[0m\u001b[0m_info_axis\u001b[0m\u001b[1;33m.\u001b[0m\u001b[0m_can_hold_identifiers_and_holds_name\u001b[0m\u001b[1;33m(\u001b[0m\u001b[0mname\u001b[0m\u001b[1;33m)\u001b[0m\u001b[1;33m\u001b[0m\u001b[1;33m\u001b[0m\u001b[0m\n\u001b[0;32m   6291\u001b[0m         \u001b[1;33m)\u001b[0m\u001b[1;33m:\u001b[0m\u001b[1;33m\u001b[0m\u001b[1;33m\u001b[0m\u001b[0m\n\u001b[0;32m   6292\u001b[0m             \u001b[1;32mreturn\u001b[0m \u001b[0mself\u001b[0m\u001b[1;33m[\u001b[0m\u001b[0mname\u001b[0m\u001b[1;33m]\u001b[0m\u001b[1;33m\u001b[0m\u001b[1;33m\u001b[0m\u001b[0m\n\u001b[1;32m-> 6293\u001b[1;33m         \u001b[1;32mreturn\u001b[0m \u001b[0mobject\u001b[0m\u001b[1;33m.\u001b[0m\u001b[0m__getattribute__\u001b[0m\u001b[1;33m(\u001b[0m\u001b[0mself\u001b[0m\u001b[1;33m,\u001b[0m \u001b[0mname\u001b[0m\u001b[1;33m)\u001b[0m\u001b[1;33m\u001b[0m\u001b[1;33m\u001b[0m\u001b[0m\n\u001b[0m",
      "\u001b[1;31mAttributeError\u001b[0m: 'DataFrame' object has no attribute 'user_uuid'"
     ]
    }
   ],
   "source": [
    "nulls = ['NULL']\n",
    "mask = df[df.user_uuid.isin(nulls)]\n",
    "mask"
   ]
  },
  {
   "cell_type": "code",
   "execution_count": 12,
   "metadata": {},
   "outputs": [],
   "source": [
    "df.replace('NULL', float(\"NaN\"), inplace= True)"
   ]
  },
  {
   "cell_type": "code",
   "execution_count": 15,
   "metadata": {},
   "outputs": [
    {
     "name": "stdout",
     "output_type": "stream",
     "text": [
      "<class 'pandas.core.frame.DataFrame'>\n",
      "RangeIndex: 15320 entries, 0 to 15319\n",
      "Data columns (total 12 columns):\n",
      " #   Column         Non-Null Count  Dtype \n",
      "---  ------         --------------  ----- \n",
      " 0   index          15320 non-null  int64 \n",
      " 1   first_name     15299 non-null  object\n",
      " 2   last_name      15299 non-null  object\n",
      " 3   date_of_birth  15299 non-null  object\n",
      " 4   company        15299 non-null  object\n",
      " 5   email_address  15299 non-null  object\n",
      " 6   address        15299 non-null  object\n",
      " 7   country        15299 non-null  object\n",
      " 8   country_code   15299 non-null  object\n",
      " 9   phone_number   15299 non-null  object\n",
      " 10  join_date      15299 non-null  object\n",
      " 11  user_uuid      15299 non-null  object\n",
      "dtypes: int64(1), object(11)\n",
      "memory usage: 1.4+ MB\n"
     ]
    }
   ],
   "source": [
    "df.info()"
   ]
  },
  {
   "cell_type": "code",
   "execution_count": 17,
   "metadata": {},
   "outputs": [],
   "source": [
    "df.dropna(axis=0, inplace= True)"
   ]
  },
  {
   "cell_type": "code",
   "execution_count": 18,
   "metadata": {},
   "outputs": [
    {
     "name": "stdout",
     "output_type": "stream",
     "text": [
      "<class 'pandas.core.frame.DataFrame'>\n",
      "Index: 15299 entries, 0 to 15319\n",
      "Data columns (total 12 columns):\n",
      " #   Column         Non-Null Count  Dtype \n",
      "---  ------         --------------  ----- \n",
      " 0   index          15299 non-null  int64 \n",
      " 1   first_name     15299 non-null  object\n",
      " 2   last_name      15299 non-null  object\n",
      " 3   date_of_birth  15299 non-null  object\n",
      " 4   company        15299 non-null  object\n",
      " 5   email_address  15299 non-null  object\n",
      " 6   address        15299 non-null  object\n",
      " 7   country        15299 non-null  object\n",
      " 8   country_code   15299 non-null  object\n",
      " 9   phone_number   15299 non-null  object\n",
      " 10  join_date      15299 non-null  object\n",
      " 11  user_uuid      15299 non-null  object\n",
      "dtypes: int64(1), object(11)\n",
      "memory usage: 1.5+ MB\n"
     ]
    }
   ],
   "source": [
    "df.info()"
   ]
  },
  {
   "cell_type": "code",
   "execution_count": 19,
   "metadata": {},
   "outputs": [
    {
     "name": "stderr",
     "output_type": "stream",
     "text": [
      "C:\\Users\\mohdi\\AppData\\Local\\Temp\\ipykernel_13164\\3583939629.py:3: UserWarning: The argument 'infer_datetime_format' is deprecated and will be removed in a future version. A strict version of it is now the default, see https://pandas.pydata.org/pdeps/0004-consistent-to-datetime-parsing.html. You can safely remove this argument.\n",
      "  df.join_date = pd.to_datetime(df['join_date'],infer_datetime_format= True, errors= 'coerce')\n",
      "C:\\Users\\mohdi\\AppData\\Local\\Temp\\ipykernel_13164\\3583939629.py:4: UserWarning: The argument 'infer_datetime_format' is deprecated and will be removed in a future version. A strict version of it is now the default, see https://pandas.pydata.org/pdeps/0004-consistent-to-datetime-parsing.html. You can safely remove this argument.\n",
      "  df.date_of_birth = pd.to_datetime(df['date_of_birth'], infer_datetime_format= True, errors= 'coerce')\n"
     ]
    }
   ],
   "source": [
    "df.first_name = df.first_name.astype('string')\n",
    "df.last_name = df.last_name.astype('string')\n",
    "df.join_date = pd.to_datetime(df['join_date'],infer_datetime_format= True, errors= 'coerce')\n",
    "df.date_of_birth = pd.to_datetime(df['date_of_birth'], infer_datetime_format= True, errors= 'coerce')\n",
    "df.country = df.country.astype('string')\n",
    "countries_to_keep = ['United Kingdom', 'Germany', 'United States']\n",
    "df.country = df.country[df['country'].isin(countries_to_keep)]"
   ]
  },
  {
   "cell_type": "code",
   "execution_count": 20,
   "metadata": {},
   "outputs": [
    {
     "name": "stdout",
     "output_type": "stream",
     "text": [
      "<class 'pandas.core.frame.DataFrame'>\n",
      "Index: 15299 entries, 0 to 15319\n",
      "Data columns (total 12 columns):\n",
      " #   Column         Non-Null Count  Dtype         \n",
      "---  ------         --------------  -----         \n",
      " 0   index          15299 non-null  int64         \n",
      " 1   first_name     15299 non-null  string        \n",
      " 2   last_name      15299 non-null  string        \n",
      " 3   date_of_birth  15257 non-null  datetime64[ns]\n",
      " 4   company        15299 non-null  object        \n",
      " 5   email_address  15299 non-null  object        \n",
      " 6   address        15299 non-null  object        \n",
      " 7   country        15284 non-null  string        \n",
      " 8   country_code   15299 non-null  object        \n",
      " 9   phone_number   15299 non-null  object        \n",
      " 10  join_date      15261 non-null  datetime64[ns]\n",
      " 11  user_uuid      15299 non-null  object        \n",
      "dtypes: datetime64[ns](2), int64(1), object(6), string(3)\n",
      "memory usage: 1.5+ MB\n"
     ]
    }
   ],
   "source": [
    "df.info()"
   ]
  },
  {
   "cell_type": "code",
   "execution_count": 21,
   "metadata": {},
   "outputs": [
    {
     "data": {
      "text/plain": [
       "0        93caf182-e4e9-4c6e-bebb-60a1a9dcf9b8\n",
       "1        8fe96c3a-d62d-4eb5-b313-cf12d9126a49\n",
       "2        fc461df4-b919-48b2-909e-55c95a03fe6b\n",
       "3        6104719f-ef14-4b09-bf04-fb0c4620acb0\n",
       "4        9523a6d3-b2dd-4670-a51a-36aebc89f579\n",
       "                         ...                 \n",
       "15315    2bd3a12f-a92d-4cdd-b99c-fc70572db302\n",
       "15316    d234c04b-c07c-46a5-a902-526f91478ecc\n",
       "15317    1a0a8b7b-7c17-42d8-a946-8a85d5495651\n",
       "15318    187fe06e-bd5f-4381-af2f-d7ac37ca7572\n",
       "15319    0589bbca-1d58-4b1f-9d0a-04ed4c57aaa1\n",
       "Name: user_uuid, Length: 15299, dtype: object"
      ]
     },
     "execution_count": 21,
     "metadata": {},
     "output_type": "execute_result"
    }
   ],
   "source": [
    "df.user_uuid"
   ]
  },
  {
   "cell_type": "code",
   "execution_count": 23,
   "metadata": {},
   "outputs": [
    {
     "data": {
      "text/plain": [
       "index            0.000000\n",
       "first_name       0.000000\n",
       "last_name        0.000000\n",
       "date_of_birth    0.274528\n",
       "company          0.000000\n",
       "email_address    0.000000\n",
       "address          0.000000\n",
       "country          0.098046\n",
       "country_code     0.000000\n",
       "phone_number     0.000000\n",
       "join_date        0.248382\n",
       "user_uuid        0.000000\n",
       "dtype: float64"
      ]
     },
     "execution_count": 23,
     "metadata": {},
     "output_type": "execute_result"
    }
   ],
   "source": [
    "df.isna().mean()*100"
   ]
  },
  {
   "cell_type": "code",
   "execution_count": 24,
   "metadata": {},
   "outputs": [],
   "source": [
    "df.dropna(subset=['date_of_birth', 'join_date'], inplace= True)"
   ]
  },
  {
   "cell_type": "code",
   "execution_count": 25,
   "metadata": {},
   "outputs": [
    {
     "data": {
      "text/plain": [
       "index            0.0\n",
       "first_name       0.0\n",
       "last_name        0.0\n",
       "date_of_birth    0.0\n",
       "company          0.0\n",
       "email_address    0.0\n",
       "address          0.0\n",
       "country          0.0\n",
       "country_code     0.0\n",
       "phone_number     0.0\n",
       "join_date        0.0\n",
       "user_uuid        0.0\n",
       "dtype: float64"
      ]
     },
     "execution_count": 25,
     "metadata": {},
     "output_type": "execute_result"
    }
   ],
   "source": [
    "df.isna().mean()*100"
   ]
  },
  {
   "cell_type": "code",
   "execution_count": 26,
   "metadata": {},
   "outputs": [
    {
     "data": {
      "text/html": [
       "<div>\n",
       "<style scoped>\n",
       "    .dataframe tbody tr th:only-of-type {\n",
       "        vertical-align: middle;\n",
       "    }\n",
       "\n",
       "    .dataframe tbody tr th {\n",
       "        vertical-align: top;\n",
       "    }\n",
       "\n",
       "    .dataframe thead th {\n",
       "        text-align: right;\n",
       "    }\n",
       "</style>\n",
       "<table border=\"1\" class=\"dataframe\">\n",
       "  <thead>\n",
       "    <tr style=\"text-align: right;\">\n",
       "      <th></th>\n",
       "      <th>index</th>\n",
       "      <th>first_name</th>\n",
       "      <th>last_name</th>\n",
       "      <th>date_of_birth</th>\n",
       "      <th>company</th>\n",
       "      <th>email_address</th>\n",
       "      <th>address</th>\n",
       "      <th>country</th>\n",
       "      <th>country_code</th>\n",
       "      <th>phone_number</th>\n",
       "      <th>join_date</th>\n",
       "      <th>user_uuid</th>\n",
       "    </tr>\n",
       "  </thead>\n",
       "  <tbody>\n",
       "    <tr>\n",
       "      <th>0</th>\n",
       "      <td>0</td>\n",
       "      <td>Sigfried</td>\n",
       "      <td>Noack</td>\n",
       "      <td>1990-09-30</td>\n",
       "      <td>Heydrich Junitz KG</td>\n",
       "      <td>rudi79@winkler.de</td>\n",
       "      <td>Zimmerstr. 1/0\\n59015 Gießen</td>\n",
       "      <td>Germany</td>\n",
       "      <td>DE</td>\n",
       "      <td>+49(0) 047905356</td>\n",
       "      <td>2018-10-10</td>\n",
       "      <td>93caf182-e4e9-4c6e-bebb-60a1a9dcf9b8</td>\n",
       "    </tr>\n",
       "    <tr>\n",
       "      <th>1</th>\n",
       "      <td>1</td>\n",
       "      <td>Guy</td>\n",
       "      <td>Allen</td>\n",
       "      <td>1940-12-01</td>\n",
       "      <td>Fox Ltd</td>\n",
       "      <td>rhodesclifford@henderson.com</td>\n",
       "      <td>Studio 22a\\nLynne terrace\\nMcCarthymouth\\nTF0 9GH</td>\n",
       "      <td>United Kingdom</td>\n",
       "      <td>GB</td>\n",
       "      <td>(0161) 496 0674</td>\n",
       "      <td>2001-12-20</td>\n",
       "      <td>8fe96c3a-d62d-4eb5-b313-cf12d9126a49</td>\n",
       "    </tr>\n",
       "    <tr>\n",
       "      <th>2</th>\n",
       "      <td>2</td>\n",
       "      <td>Harry</td>\n",
       "      <td>Lawrence</td>\n",
       "      <td>1995-08-02</td>\n",
       "      <td>Johnson, Jones and Harris</td>\n",
       "      <td>glen98@bryant-marshall.co.uk</td>\n",
       "      <td>92 Ann drive\\nJoanborough\\nSK0 6LR</td>\n",
       "      <td>United Kingdom</td>\n",
       "      <td>GB</td>\n",
       "      <td>+44(0)121 4960340</td>\n",
       "      <td>2016-12-16</td>\n",
       "      <td>fc461df4-b919-48b2-909e-55c95a03fe6b</td>\n",
       "    </tr>\n",
       "    <tr>\n",
       "      <th>3</th>\n",
       "      <td>3</td>\n",
       "      <td>Darren</td>\n",
       "      <td>Hussain</td>\n",
       "      <td>1972-09-23</td>\n",
       "      <td>Wheeler LLC</td>\n",
       "      <td>daniellebryan@thompson.org</td>\n",
       "      <td>19 Robinson meadow\\nNew Tracy\\nW22 2QG</td>\n",
       "      <td>United Kingdom</td>\n",
       "      <td>GB</td>\n",
       "      <td>(0306) 999 0871</td>\n",
       "      <td>2004-02-23</td>\n",
       "      <td>6104719f-ef14-4b09-bf04-fb0c4620acb0</td>\n",
       "    </tr>\n",
       "    <tr>\n",
       "      <th>4</th>\n",
       "      <td>4</td>\n",
       "      <td>Garry</td>\n",
       "      <td>Stone</td>\n",
       "      <td>1952-12-20</td>\n",
       "      <td>Warner Inc</td>\n",
       "      <td>billy14@long-warren.com</td>\n",
       "      <td>3 White pass\\nHunterborough\\nNN96 4UE</td>\n",
       "      <td>United Kingdom</td>\n",
       "      <td>GB</td>\n",
       "      <td>0121 496 0225</td>\n",
       "      <td>2006-09-01</td>\n",
       "      <td>9523a6d3-b2dd-4670-a51a-36aebc89f579</td>\n",
       "    </tr>\n",
       "    <tr>\n",
       "      <th>...</th>\n",
       "      <td>...</td>\n",
       "      <td>...</td>\n",
       "      <td>...</td>\n",
       "      <td>...</td>\n",
       "      <td>...</td>\n",
       "      <td>...</td>\n",
       "      <td>...</td>\n",
       "      <td>...</td>\n",
       "      <td>...</td>\n",
       "      <td>...</td>\n",
       "      <td>...</td>\n",
       "      <td>...</td>\n",
       "    </tr>\n",
       "    <tr>\n",
       "      <th>95</th>\n",
       "      <td>95</td>\n",
       "      <td>Oliver</td>\n",
       "      <td>Jacob</td>\n",
       "      <td>1949-11-11</td>\n",
       "      <td>Eimer</td>\n",
       "      <td>concettadrub@fritsch.net</td>\n",
       "      <td>Johannes-Drubin-Ring 9\\n41950 Jessen</td>\n",
       "      <td>Germany</td>\n",
       "      <td>DE</td>\n",
       "      <td>(01756) 82716</td>\n",
       "      <td>2019-08-11</td>\n",
       "      <td>0bd028f1-02c0-4441-8535-299a2e8db939</td>\n",
       "    </tr>\n",
       "    <tr>\n",
       "      <th>96</th>\n",
       "      <td>96</td>\n",
       "      <td>Vitali</td>\n",
       "      <td>Löwer</td>\n",
       "      <td>1955-12-29</td>\n",
       "      <td>Knappe Linke Stiftung &amp; Co. KGaA</td>\n",
       "      <td>gbeyer@trueb.de</td>\n",
       "      <td>Trubinweg 62\\n43281 München</td>\n",
       "      <td>Germany</td>\n",
       "      <td>DE</td>\n",
       "      <td>(00632) 193546</td>\n",
       "      <td>2019-12-11</td>\n",
       "      <td>fd0d7355-892c-4192-b9ef-282ef3d8e6f6</td>\n",
       "    </tr>\n",
       "    <tr>\n",
       "      <th>97</th>\n",
       "      <td>97</td>\n",
       "      <td>Samantha</td>\n",
       "      <td>Patel</td>\n",
       "      <td>1976-03-11</td>\n",
       "      <td>Smith-Vincent</td>\n",
       "      <td>nashrobert@thompson.net</td>\n",
       "      <td>1 Ward estate\\nLake Rogerside\\nDH3 5HE</td>\n",
       "      <td>United Kingdom</td>\n",
       "      <td>GB</td>\n",
       "      <td>+44(0)1614960324</td>\n",
       "      <td>2015-12-25</td>\n",
       "      <td>aa9560a5-8f64-47e7-8fd7-a32846c790ca</td>\n",
       "    </tr>\n",
       "    <tr>\n",
       "      <th>98</th>\n",
       "      <td>98</td>\n",
       "      <td>Jasmine</td>\n",
       "      <td>Davies</td>\n",
       "      <td>1991-10-05</td>\n",
       "      <td>Shepherd-Patel</td>\n",
       "      <td>wilsoncharlene@singh.co.uk</td>\n",
       "      <td>Studio 9\\nDanny square\\nLindseybury\\nCV27 8RP</td>\n",
       "      <td>United Kingdom</td>\n",
       "      <td>GB</td>\n",
       "      <td>+44(0)1174960171</td>\n",
       "      <td>1993-11-28</td>\n",
       "      <td>adb4bfee-9625-40f8-aaa7-53e54b58f274</td>\n",
       "    </tr>\n",
       "    <tr>\n",
       "      <th>99</th>\n",
       "      <td>99</td>\n",
       "      <td>Dean</td>\n",
       "      <td>Booth</td>\n",
       "      <td>1981-10-23</td>\n",
       "      <td>Chapman, Russell and Thompson</td>\n",
       "      <td>griffithsdebra@clarke-pearce.net</td>\n",
       "      <td>177 Wood points\\nWest Albert\\nBN09 3AB</td>\n",
       "      <td>United Kingdom</td>\n",
       "      <td>GB</td>\n",
       "      <td>+44(0)1632960663</td>\n",
       "      <td>2014-01-26</td>\n",
       "      <td>87e945d4-bc8d-423c-b786-0cede8d0b159</td>\n",
       "    </tr>\n",
       "  </tbody>\n",
       "</table>\n",
       "<p>100 rows × 12 columns</p>\n",
       "</div>"
      ],
      "text/plain": [
       "    index first_name last_name date_of_birth  \\\n",
       "0       0   Sigfried     Noack    1990-09-30   \n",
       "1       1        Guy     Allen    1940-12-01   \n",
       "2       2      Harry  Lawrence    1995-08-02   \n",
       "3       3     Darren   Hussain    1972-09-23   \n",
       "4       4      Garry     Stone    1952-12-20   \n",
       "..    ...        ...       ...           ...   \n",
       "95     95     Oliver     Jacob    1949-11-11   \n",
       "96     96     Vitali     Löwer    1955-12-29   \n",
       "97     97   Samantha     Patel    1976-03-11   \n",
       "98     98    Jasmine    Davies    1991-10-05   \n",
       "99     99       Dean     Booth    1981-10-23   \n",
       "\n",
       "                             company                     email_address  \\\n",
       "0                 Heydrich Junitz KG                 rudi79@winkler.de   \n",
       "1                            Fox Ltd      rhodesclifford@henderson.com   \n",
       "2          Johnson, Jones and Harris      glen98@bryant-marshall.co.uk   \n",
       "3                        Wheeler LLC        daniellebryan@thompson.org   \n",
       "4                         Warner Inc           billy14@long-warren.com   \n",
       "..                               ...                               ...   \n",
       "95                             Eimer          concettadrub@fritsch.net   \n",
       "96  Knappe Linke Stiftung & Co. KGaA                   gbeyer@trueb.de   \n",
       "97                     Smith-Vincent           nashrobert@thompson.net   \n",
       "98                    Shepherd-Patel        wilsoncharlene@singh.co.uk   \n",
       "99     Chapman, Russell and Thompson  griffithsdebra@clarke-pearce.net   \n",
       "\n",
       "                                              address         country  \\\n",
       "0                        Zimmerstr. 1/0\\n59015 Gießen         Germany   \n",
       "1   Studio 22a\\nLynne terrace\\nMcCarthymouth\\nTF0 9GH  United Kingdom   \n",
       "2                  92 Ann drive\\nJoanborough\\nSK0 6LR  United Kingdom   \n",
       "3              19 Robinson meadow\\nNew Tracy\\nW22 2QG  United Kingdom   \n",
       "4               3 White pass\\nHunterborough\\nNN96 4UE  United Kingdom   \n",
       "..                                                ...             ...   \n",
       "95               Johannes-Drubin-Ring 9\\n41950 Jessen         Germany   \n",
       "96                        Trubinweg 62\\n43281 München         Germany   \n",
       "97             1 Ward estate\\nLake Rogerside\\nDH3 5HE  United Kingdom   \n",
       "98      Studio 9\\nDanny square\\nLindseybury\\nCV27 8RP  United Kingdom   \n",
       "99             177 Wood points\\nWest Albert\\nBN09 3AB  United Kingdom   \n",
       "\n",
       "   country_code       phone_number  join_date  \\\n",
       "0            DE   +49(0) 047905356 2018-10-10   \n",
       "1            GB    (0161) 496 0674 2001-12-20   \n",
       "2            GB  +44(0)121 4960340 2016-12-16   \n",
       "3            GB    (0306) 999 0871 2004-02-23   \n",
       "4            GB      0121 496 0225 2006-09-01   \n",
       "..          ...                ...        ...   \n",
       "95           DE      (01756) 82716 2019-08-11   \n",
       "96           DE     (00632) 193546 2019-12-11   \n",
       "97           GB   +44(0)1614960324 2015-12-25   \n",
       "98           GB   +44(0)1174960171 1993-11-28   \n",
       "99           GB   +44(0)1632960663 2014-01-26   \n",
       "\n",
       "                               user_uuid  \n",
       "0   93caf182-e4e9-4c6e-bebb-60a1a9dcf9b8  \n",
       "1   8fe96c3a-d62d-4eb5-b313-cf12d9126a49  \n",
       "2   fc461df4-b919-48b2-909e-55c95a03fe6b  \n",
       "3   6104719f-ef14-4b09-bf04-fb0c4620acb0  \n",
       "4   9523a6d3-b2dd-4670-a51a-36aebc89f579  \n",
       "..                                   ...  \n",
       "95  0bd028f1-02c0-4441-8535-299a2e8db939  \n",
       "96  fd0d7355-892c-4192-b9ef-282ef3d8e6f6  \n",
       "97  aa9560a5-8f64-47e7-8fd7-a32846c790ca  \n",
       "98  adb4bfee-9625-40f8-aaa7-53e54b58f274  \n",
       "99  87e945d4-bc8d-423c-b786-0cede8d0b159  \n",
       "\n",
       "[100 rows x 12 columns]"
      ]
     },
     "execution_count": 26,
     "metadata": {},
     "output_type": "execute_result"
    }
   ],
   "source": [
    "df.head(100)"
   ]
  },
  {
   "cell_type": "code",
   "execution_count": 31,
   "metadata": {},
   "outputs": [
    {
     "data": {
      "text/plain": [
       "join_date\n",
       "2006-05-30    8\n",
       "2015-10-14    7\n",
       "2013-10-11    7\n",
       "2007-08-08    7\n",
       "2007-05-28    7\n",
       "             ..\n",
       "1998-06-09    1\n",
       "2011-05-21    1\n",
       "2012-05-18    1\n",
       "1997-02-13    1\n",
       "2015-08-28    1\n",
       "Name: count, Length: 8222, dtype: int64"
      ]
     },
     "execution_count": 31,
     "metadata": {},
     "output_type": "execute_result"
    }
   ],
   "source": [
    "df.join_date.value_counts()"
   ]
  },
  {
   "cell_type": "code",
   "execution_count": 32,
   "metadata": {},
   "outputs": [
    {
     "name": "stdout",
     "output_type": "stream",
     "text": [
      "<class 'pandas.core.frame.DataFrame'>\n",
      "Index: 15234 entries, 0 to 15319\n",
      "Data columns (total 12 columns):\n",
      " #   Column         Non-Null Count  Dtype         \n",
      "---  ------         --------------  -----         \n",
      " 0   index          15234 non-null  int64         \n",
      " 1   first_name     15234 non-null  string        \n",
      " 2   last_name      15234 non-null  string        \n",
      " 3   date_of_birth  15234 non-null  datetime64[ns]\n",
      " 4   company        15234 non-null  object        \n",
      " 5   email_address  15234 non-null  object        \n",
      " 6   address        15234 non-null  object        \n",
      " 7   country        15234 non-null  string        \n",
      " 8   country_code   15234 non-null  object        \n",
      " 9   phone_number   15234 non-null  object        \n",
      " 10  join_date      15234 non-null  datetime64[ns]\n",
      " 11  user_uuid      15234 non-null  object        \n",
      "dtypes: datetime64[ns](2), int64(1), object(6), string(3)\n",
      "memory usage: 1.5+ MB\n"
     ]
    }
   ],
   "source": [
    "df.info()"
   ]
  },
  {
   "cell_type": "code",
   "execution_count": null,
   "metadata": {},
   "outputs": [],
   "source": []
  }
 ],
 "metadata": {
  "kernelspec": {
   "display_name": "mrdc",
   "language": "python",
   "name": "python3"
  },
  "language_info": {
   "codemirror_mode": {
    "name": "ipython",
    "version": 3
   },
   "file_extension": ".py",
   "mimetype": "text/x-python",
   "name": "python",
   "nbconvert_exporter": "python",
   "pygments_lexer": "ipython3",
   "version": "3.12.1"
  }
 },
 "nbformat": 4,
 "nbformat_minor": 2
}
