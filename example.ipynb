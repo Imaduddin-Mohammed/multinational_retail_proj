{
 "cells": [
  {
   "cell_type": "code",
   "execution_count": 1,
   "metadata": {},
   "outputs": [],
   "source": [
    "from database_utils import DatabaseConnector\n",
    "from data_extraction import DataExtractor\n",
    "from data_cleaning import DataCleaning\n",
    "from dateutil.parser import parse\n",
    "import pandas as pd\n",
    "import numpy as np"
   ]
  },
  {
   "cell_type": "code",
   "execution_count": 2,
   "metadata": {},
   "outputs": [],
   "source": [
    "#intializing engine\n",
    "connector = DatabaseConnector()\n",
    "engine1, engine2 = connector.init_db_engine()"
   ]
  },
  {
   "cell_type": "code",
   "execution_count": 3,
   "metadata": {},
   "outputs": [
    {
     "name": "stderr",
     "output_type": "stream",
     "text": [
      "c:\\Users\\mohdi\\Miniconda3\\envs\\mrdc\\Lib\\site-packages\\tabula\\io.py:1045: FutureWarning: errors='ignore' is deprecated and will raise in a future version. Use to_numeric without passing `errors` and catch exceptions explicitly instead\n",
      "  df[c] = pd.to_numeric(df[c], errors=\"ignore\")\n"
     ]
    },
    {
     "name": "stdout",
     "output_type": "stream",
     "text": [
      "<class 'pandas.core.frame.DataFrame'>\n",
      "RangeIndex: 15309 entries, 0 to 15308\n",
      "Data columns (total 4 columns):\n",
      " #   Column                  Non-Null Count  Dtype \n",
      "---  ------                  --------------  ----- \n",
      " 0   card_number             15309 non-null  object\n",
      " 1   expiry_date             15309 non-null  object\n",
      " 2   card_provider           15309 non-null  object\n",
      " 3   date_payment_confirmed  15309 non-null  object\n",
      "dtypes: object(4)\n",
      "memory usage: 478.5+ KB\n"
     ]
    }
   ],
   "source": [
    "#extracting the card details from the cloud\n",
    "extractor = DataExtractor()\n",
    "pdf_path = 'https://data-handling-public.s3.eu-west-1.amazonaws.com/card_details.pdf'\n",
    "extracted_card_df = extractor.retrieve_pdf_data(pdf_path)\n",
    "extracted_card_df.info()\n"
   ]
  },
  {
   "cell_type": "code",
   "execution_count": null,
   "metadata": {},
   "outputs": [],
   "source": [
    "#15284"
   ]
  },
  {
   "cell_type": "code",
   "execution_count": 4,
   "metadata": {},
   "outputs": [
    {
     "name": "stdout",
     "output_type": "stream",
     "text": [
      "0    2015-11-25\n",
      "1    2001-06-18\n",
      "2    2000-12-26\n",
      "3    2011-02-12\n",
      "4    1997-03-13\n",
      "Name: date_payment_confirmed, dtype: object\n",
      "Value count is: \n",
      "date_payment_confirmed\n",
      "NULL          11\n",
      "2009-12-20     8\n",
      "1998-02-25     8\n",
      "2017-03-31     7\n",
      "2000-09-26     7\n",
      "              ..\n",
      "2016-09-18     1\n",
      "2007-01-11     1\n",
      "2021-07-09     1\n",
      "2015-05-24     1\n",
      "2009-02-04     1\n",
      "Name: count, Length: 8270, dtype: int64\n"
     ]
    }
   ],
   "source": [
    "print(extracted_card_df.date_payment_confirmed.head())\n",
    "print(f\"Value count is: \\n{extracted_card_df.date_payment_confirmed.value_counts()}\")"
   ]
  },
  {
   "cell_type": "code",
   "execution_count": 5,
   "metadata": {},
   "outputs": [
    {
     "name": "stdout",
     "output_type": "stream",
     "text": [
      "NULL\n"
     ]
    }
   ],
   "source": [
    "\n",
    "extracted_card_df.dropna(subset=['date_payment_confirmed'], inplace=True)\n",
    "#This doesnt drop nulls because they are not recognised by pandas because they are string\n",
    "print(extracted_card_df.date_payment_confirmed.iloc[377])\n",
    "\n"
   ]
  },
  {
   "cell_type": "code",
   "execution_count": 20,
   "metadata": {},
   "outputs": [
    {
     "name": "stderr",
     "output_type": "stream",
     "text": [
      "C:\\Users\\mohdi\\AppData\\Local\\Temp\\ipykernel_9508\\3112648347.py:4: SettingWithCopyWarning: \n",
      "A value is trying to be set on a copy of a slice from a DataFrame\n",
      "\n",
      "See the caveats in the documentation: https://pandas.pydata.org/pandas-docs/stable/user_guide/indexing.html#returning-a-view-versus-a-copy\n",
      "  extracted_card_df1 = subset_df.dropna( how = 'any', inplace= True)\n"
     ]
    }
   ],
   "source": [
    "cols = ['NULL']\n",
    "mask = extracted_card_df.date_payment_confirmed.isin(cols)\n",
    "subset_df = extracted_card_df[mask]\n",
    "extracted_card_df1 = subset_df.dropna( how = 'any', inplace= True)"
   ]
  },
  {
   "cell_type": "code",
   "execution_count": 7,
   "metadata": {},
   "outputs": [
    {
     "name": "stdout",
     "output_type": "stream",
     "text": [
      "NaT\n"
     ]
    }
   ],
   "source": [
    "#we have to manually  handle these NULL values in each column\n",
    "extracted_card_df.date_payment_confirmed = extracted_card_df.date_payment_confirmed.replace('NULL', pd.NaT)\n",
    "extracted_card_df.expiry_date = extracted_card_df.expiry_date.replace('NULL', pd.NaT)\n",
    "extracted_card_df.card_provider = extracted_card_df.card_provider.replace('NULL', np.NaN)\n",
    "extracted_card_df.card_number = extracted_card_df.card_number.replace('NULL', np.NaN)\n",
    "print(extracted_card_df.date_payment_confirmed.iloc[377])"
   ]
  },
  {
   "cell_type": "code",
   "execution_count": 8,
   "metadata": {},
   "outputs": [
    {
     "data": {
      "text/plain": [
       "'December 2000 01'"
      ]
     },
     "execution_count": 8,
     "metadata": {},
     "output_type": "execute_result"
    }
   ],
   "source": [
    "extracted_card_df.date_payment_confirmed.iloc[6667]"
   ]
  },
  {
   "cell_type": "code",
   "execution_count": 9,
   "metadata": {},
   "outputs": [
    {
     "data": {
      "text/html": [
       "<div>\n",
       "<style scoped>\n",
       "    .dataframe tbody tr th:only-of-type {\n",
       "        vertical-align: middle;\n",
       "    }\n",
       "\n",
       "    .dataframe tbody tr th {\n",
       "        vertical-align: top;\n",
       "    }\n",
       "\n",
       "    .dataframe thead th {\n",
       "        text-align: right;\n",
       "    }\n",
       "</style>\n",
       "<table border=\"1\" class=\"dataframe\">\n",
       "  <thead>\n",
       "    <tr style=\"text-align: right;\">\n",
       "      <th></th>\n",
       "      <th>card_number</th>\n",
       "      <th>expiry_date</th>\n",
       "      <th>card_provider</th>\n",
       "      <th>date_payment_confirmed</th>\n",
       "    </tr>\n",
       "  </thead>\n",
       "  <tbody>\n",
       "    <tr>\n",
       "      <th>0</th>\n",
       "      <td>30060773296197</td>\n",
       "      <td>09/26</td>\n",
       "      <td>Diners Club / Carte Blanche</td>\n",
       "      <td>2015-11-25</td>\n",
       "    </tr>\n",
       "    <tr>\n",
       "      <th>1</th>\n",
       "      <td>349624180933183</td>\n",
       "      <td>10/23</td>\n",
       "      <td>American Express</td>\n",
       "      <td>2001-06-18</td>\n",
       "    </tr>\n",
       "    <tr>\n",
       "      <th>2</th>\n",
       "      <td>3529023891650490</td>\n",
       "      <td>06/23</td>\n",
       "      <td>JCB 16 digit</td>\n",
       "      <td>2000-12-26</td>\n",
       "    </tr>\n",
       "    <tr>\n",
       "      <th>3</th>\n",
       "      <td>213142929492281</td>\n",
       "      <td>09/27</td>\n",
       "      <td>JCB 15 digit</td>\n",
       "      <td>2011-02-12</td>\n",
       "    </tr>\n",
       "    <tr>\n",
       "      <th>4</th>\n",
       "      <td>502067329974</td>\n",
       "      <td>10/25</td>\n",
       "      <td>Maestro</td>\n",
       "      <td>1997-03-13</td>\n",
       "    </tr>\n",
       "    <tr>\n",
       "      <th>...</th>\n",
       "      <td>...</td>\n",
       "      <td>...</td>\n",
       "      <td>...</td>\n",
       "      <td>...</td>\n",
       "    </tr>\n",
       "    <tr>\n",
       "      <th>823</th>\n",
       "      <td>4918636593179</td>\n",
       "      <td>02/27</td>\n",
       "      <td>VISA 13 digit</td>\n",
       "      <td>2019-05-28</td>\n",
       "    </tr>\n",
       "    <tr>\n",
       "      <th>824</th>\n",
       "      <td>4787915516973</td>\n",
       "      <td>02/24</td>\n",
       "      <td>VISA 13 digit</td>\n",
       "      <td>2003-01-04</td>\n",
       "    </tr>\n",
       "    <tr>\n",
       "      <th>825</th>\n",
       "      <td>4004698644110600</td>\n",
       "      <td>06/27</td>\n",
       "      <td>VISA 16 digit</td>\n",
       "      <td>1993-10-11</td>\n",
       "    </tr>\n",
       "    <tr>\n",
       "      <th>826</th>\n",
       "      <td>180092318240446</td>\n",
       "      <td>03/23</td>\n",
       "      <td>JCB 15 digit</td>\n",
       "      <td>1994-05-11</td>\n",
       "    </tr>\n",
       "    <tr>\n",
       "      <th>827</th>\n",
       "      <td>VAB9DSB8ZM</td>\n",
       "      <td>NWS3P2W38H</td>\n",
       "      <td>NB71VBAHJE</td>\n",
       "      <td>GTC9KBWJO9</td>\n",
       "    </tr>\n",
       "  </tbody>\n",
       "</table>\n",
       "<p>828 rows × 4 columns</p>\n",
       "</div>"
      ],
      "text/plain": [
       "          card_number expiry_date                card_provider  \\\n",
       "0      30060773296197       09/26  Diners Club / Carte Blanche   \n",
       "1     349624180933183       10/23             American Express   \n",
       "2    3529023891650490       06/23                 JCB 16 digit   \n",
       "3     213142929492281       09/27                 JCB 15 digit   \n",
       "4        502067329974       10/25                      Maestro   \n",
       "..                ...         ...                          ...   \n",
       "823     4918636593179       02/27                VISA 13 digit   \n",
       "824     4787915516973       02/24                VISA 13 digit   \n",
       "825  4004698644110600       06/27                VISA 16 digit   \n",
       "826   180092318240446       03/23                 JCB 15 digit   \n",
       "827        VAB9DSB8ZM  NWS3P2W38H                   NB71VBAHJE   \n",
       "\n",
       "    date_payment_confirmed  \n",
       "0               2015-11-25  \n",
       "1               2001-06-18  \n",
       "2               2000-12-26  \n",
       "3               2011-02-12  \n",
       "4               1997-03-13  \n",
       "..                     ...  \n",
       "823             2019-05-28  \n",
       "824             2003-01-04  \n",
       "825             1993-10-11  \n",
       "826             1994-05-11  \n",
       "827             GTC9KBWJO9  \n",
       "\n",
       "[828 rows x 4 columns]"
      ]
     },
     "execution_count": 9,
     "metadata": {},
     "output_type": "execute_result"
    }
   ],
   "source": [
    "#from this it is clear the entire row is gibberish, hence we need to filter it out by a column which has less types and delete the entire row\n",
    "extracted_card_df.head(828)"
   ]
  },
  {
   "cell_type": "code",
   "execution_count": 10,
   "metadata": {},
   "outputs": [
    {
     "data": {
      "text/plain": [
       "card_provider\n",
       "VISA 16 digit                  2426\n",
       "JCB 16 digit                   2403\n",
       "VISA 13 digit                  1382\n",
       "JCB 15 digit                   1363\n",
       "VISA 19 digit                  1349\n",
       "Diners Club / Carte Blanche    1312\n",
       "American Express               1297\n",
       "Maestro                        1281\n",
       "Discover                       1260\n",
       "Mastercard                     1211\n",
       "OGJTXI6X1H                        1\n",
       "BU9U947ZGV                        1\n",
       "UA07L7EILH                        1\n",
       "XGZBYBYGUW                        1\n",
       "DLWF2HANZF                        1\n",
       "1M38DYQTZV                        1\n",
       "JRPRLPIBZ2                        1\n",
       "DE488ORDXY                        1\n",
       "5CJH7ABGDR                        1\n",
       "JCQMU8FN85                        1\n",
       "TS8A81WFXV                        1\n",
       "WJVMUO4QX6                        1\n",
       "NB71VBAHJE                        1\n",
       "5MFWFBZRM9                        1\n",
       "Name: count, dtype: int64"
      ]
     },
     "execution_count": 10,
     "metadata": {},
     "output_type": "execute_result"
    }
   ],
   "source": [
    "extracted_card_df.card_provider.value_counts()"
   ]
  },
  {
   "cell_type": "code",
   "execution_count": 11,
   "metadata": {},
   "outputs": [],
   "source": [
    "card_details_to_keep = ['VISA 16 digit','JCB 16 digit' ,'VISA 13 digit' 'JCB 15 digit ', 'VISA 19 digit', 'Diners Club / Carte Blanche', 'American Express', 'Maestro', 'Discover', 'Mastercard' ]\n",
    "extracted_card_df.card_provider = extracted_card_df.card_provider[extracted_card_df.card_provider.isin(card_details_to_keep)]"
   ]
  },
  {
   "cell_type": "code",
   "execution_count": 12,
   "metadata": {},
   "outputs": [
    {
     "data": {
      "text/plain": [
       "card_provider\n",
       "VISA 16 digit                  2426\n",
       "JCB 16 digit                   2403\n",
       "VISA 19 digit                  1349\n",
       "Diners Club / Carte Blanche    1312\n",
       "American Express               1297\n",
       "Maestro                        1281\n",
       "Discover                       1260\n",
       "Mastercard                     1211\n",
       "Name: count, dtype: int64"
      ]
     },
     "execution_count": 12,
     "metadata": {},
     "output_type": "execute_result"
    }
   ],
   "source": [
    "extracted_card_df.card_provider.value_counts()"
   ]
  },
  {
   "cell_type": "code",
   "execution_count": 14,
   "metadata": {},
   "outputs": [
    {
     "name": "stdout",
     "output_type": "stream",
     "text": [
      "0     Diners Club / Carte Blanche\n",
      "1                American Express\n",
      "2                    JCB 16 digit\n",
      "3                             NaN\n",
      "4                         Maestro\n",
      "5                    JCB 16 digit\n",
      "6                American Express\n",
      "7                      Mastercard\n",
      "8                        Discover\n",
      "9                         Maestro\n",
      "10                       Discover\n",
      "11                       Discover\n",
      "12                   JCB 16 digit\n",
      "13               American Express\n",
      "14                   JCB 16 digit\n",
      "15                     Mastercard\n",
      "16                  VISA 19 digit\n",
      "17                       Discover\n",
      "18                  VISA 19 digit\n",
      "19                   JCB 16 digit\n",
      "20                            NaN\n",
      "21                   JCB 16 digit\n",
      "22                  VISA 16 digit\n",
      "23                  VISA 19 digit\n",
      "24                       Discover\n",
      "25               American Express\n",
      "26                   JCB 16 digit\n",
      "27                  VISA 16 digit\n",
      "28                   JCB 16 digit\n",
      "29    Diners Club / Carte Blanche\n",
      "30                     Mastercard\n",
      "31                     Mastercard\n",
      "32    Diners Club / Carte Blanche\n",
      "33                  VISA 19 digit\n",
      "34                  VISA 16 digit\n",
      "35                        Maestro\n",
      "36                            NaN\n",
      "37                  VISA 19 digit\n",
      "38                  VISA 16 digit\n",
      "39                   JCB 16 digit\n",
      "40    Diners Club / Carte Blanche\n",
      "41                   JCB 16 digit\n",
      "42                        Maestro\n",
      "43                            NaN\n",
      "44    Diners Club / Carte Blanche\n",
      "45                  VISA 16 digit\n",
      "46    Diners Club / Carte Blanche\n",
      "47                   JCB 16 digit\n",
      "48                            NaN\n",
      "49                        Maestro\n",
      "Name: card_provider, dtype: object\n"
     ]
    }
   ],
   "source": [
    "print(extracted_card_df.card_provider.head(50))"
   ]
  },
  {
   "cell_type": "code",
   "execution_count": 28,
   "metadata": {},
   "outputs": [
    {
     "name": "stdout",
     "output_type": "stream",
     "text": [
      "<class 'pandas.core.frame.DataFrame'>\n",
      "RangeIndex: 15309 entries, 0 to 15308\n",
      "Data columns (total 4 columns):\n",
      " #   Column                  Non-Null Count  Dtype \n",
      "---  ------                  --------------  ----- \n",
      " 0   card_number             15298 non-null  object\n",
      " 1   expiry_date             15298 non-null  object\n",
      " 2   card_provider           12539 non-null  object\n",
      " 3   date_payment_confirmed  15298 non-null  object\n",
      "dtypes: object(4)\n",
      "memory usage: 478.5+ KB\n"
     ]
    }
   ],
   "source": [
    "extracted_card_df.info()"
   ]
  },
  {
   "cell_type": "code",
   "execution_count": null,
   "metadata": {},
   "outputs": [],
   "source": []
  }
 ],
 "metadata": {
  "kernelspec": {
   "display_name": "base",
   "language": "python",
   "name": "python3"
  },
  "language_info": {
   "codemirror_mode": {
    "name": "ipython",
    "version": 3
   },
   "file_extension": ".py",
   "mimetype": "text/x-python",
   "name": "python",
   "nbconvert_exporter": "python",
   "pygments_lexer": "ipython3",
   "version": "3.12.1"
  }
 },
 "nbformat": 4,
 "nbformat_minor": 2
}
