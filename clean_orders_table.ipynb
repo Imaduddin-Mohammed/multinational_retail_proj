{
 "cells": [
  {
   "cell_type": "code",
   "execution_count": 1,
   "metadata": {},
   "outputs": [],
   "source": [
    "from database_utils import DatabaseConnector\n",
    "from data_extraction import DataExtractor\n",
    "from dateutil.parser import parse\n",
    "import pandas as pd"
   ]
  },
  {
   "cell_type": "code",
   "execution_count": 2,
   "metadata": {},
   "outputs": [],
   "source": [
    "filepath = 'db_creds.yaml'\n",
    "connector = DatabaseConnector()\n",
    "extractor = DataExtractor()\n",
    "credentials = connector.read_db_creds(filepath)\n",
    "engine1, engine2 = connector.init_db_engine(credentials)"
   ]
  },
  {
   "cell_type": "code",
   "execution_count": 4,
   "metadata": {},
   "outputs": [
    {
     "name": "stdout",
     "output_type": "stream",
     "text": [
      "['legacy_store_details', 'legacy_users', 'orders_table']\n"
     ]
    }
   ],
   "source": [
    "tables = connector.list_db_tables(engine1)\n",
    "print(tables)\n"
   ]
  },
  {
   "cell_type": "code",
   "execution_count": 6,
   "metadata": {},
   "outputs": [
    {
     "name": "stdout",
     "output_type": "stream",
     "text": [
      "<class 'pandas.core.frame.DataFrame'>\n"
     ]
    }
   ],
   "source": [
    "orders_df = extractor.read_rds_table('orders_table', conn = engine1)"
   ]
  },
  {
   "cell_type": "code",
   "execution_count": 9,
   "metadata": {},
   "outputs": [],
   "source": [
    "orders_df.to_csv(\"orders_df.csv\", index= False)"
   ]
  },
  {
   "cell_type": "code",
   "execution_count": 10,
   "metadata": {},
   "outputs": [],
   "source": [
    "order_df = orders_df.copy()"
   ]
  },
  {
   "cell_type": "code",
   "execution_count": 11,
   "metadata": {},
   "outputs": [],
   "source": [
    "order_df.drop(columns = ['first_name', 'last_name', '1'], inplace = True)"
   ]
  },
  {
   "cell_type": "code",
   "execution_count": 12,
   "metadata": {},
   "outputs": [
    {
     "name": "stdout",
     "output_type": "stream",
     "text": [
      "level_0             0.0\n",
      "index               0.0\n",
      "date_uuid           0.0\n",
      "user_uuid           0.0\n",
      "card_number         0.0\n",
      "store_code          0.0\n",
      "product_code        0.0\n",
      "product_quantity    0.0\n",
      "dtype: float64\n"
     ]
    }
   ],
   "source": [
    "null_cols_percent = order_df.isna().mean()*100\n",
    "print(null_cols_percent)"
   ]
  },
  {
   "cell_type": "code",
   "execution_count": 13,
   "metadata": {},
   "outputs": [
    {
     "data": {
      "text/plain": [
       "level_0  index   date_uuid                             user_uuid                             card_number          store_code   product_code  product_quantity\n",
       "0        0       9476f17e-5d6a-4117-874d-9cdb38ca1fa6  93caf182-e4e9-4c6e-bebb-60a1a9dcf9b8  30060773296197       BL-8387506C  R7-3126933h   3                   1\n",
       "80078    80078   80369491-08a6-4242-b5a3-8b848836e973  1660c20c-a1aa-4fe4-9839-2bc76ab4dc1f  4488599309760120     SU-ABF4F9A1  T1-6963823j   4                   1\n",
       "80090    80090   54400870-99a1-403f-893d-e85d4b8f73e5  bf7f77fc-cad9-4a03-ba62-977183f84638  30165719527959       BA-B4AED588  q1-4354994J   3                   1\n",
       "80089    80089   456a7c02-8fc7-46a5-a37d-17f598930185  e57345b6-a17d-43b9-8d93-95a0858e0a0f  4123601024242460000  LU-439557A9  s6-053731A    2                   1\n",
       "80088    80088   ddda6cf9-49ed-4397-9aff-8232ede0813a  9d318be3-c7ed-4015-b179-c440e7a954af  6520896341853160     SI-66F97423  s6-1648493d   5                   1\n",
       "                                                                                                                                                                ..\n",
       "40036    40036   99e806a1-5c05-46af-8446-2f99fedcf024  88ce2921-8e89-4e41-8b72-80d32216df9b  2550311540762000     AR-CB0D95D8  U4-9281362l   1                   1\n",
       "40035    40035   eadb726f-9edc-4e8c-a113-d1d8fcef1767  7d530e42-d68b-4776-91d6-c0c16e87ee42  347159826348407      LO-F33AC948  c7-6364718G   12                  1\n",
       "40034    40034   4afc70ab-e936-4447-95a2-50f3a96915f7  56f75ed8-ed94-410e-a7f0-8edea8edfb06  503819538920         BL-D6CF153F  R7-4899661Q   8                   1\n",
       "40033    40033   e604ab7d-f920-46cc-b6bd-ec6e566ef337  05e9bfb5-4192-4deb-8dff-f9aee43d2d70  213104754414921      WE-55D0E7FF  w9-8679766G   4                   1\n",
       "120122   120122  fe3f9a13-b862-4395-84eb-ead9de40c3d6  60021fcd-f0c2-4522-914b-2f8ee18a7d89  676112613481         ST-8D1A43F1  i7-488835x    6                   1\n",
       "Name: count, Length: 120123, dtype: int64"
      ]
     },
     "execution_count": 13,
     "metadata": {},
     "output_type": "execute_result"
    }
   ],
   "source": [
    "order_df.value_counts()"
   ]
  },
  {
   "cell_type": "code",
   "execution_count": 14,
   "metadata": {},
   "outputs": [],
   "source": [
    "order_df.to_csv(\"cleaned_order.csv\")"
   ]
  }
 ],
 "metadata": {
  "kernelspec": {
   "display_name": "mrdc",
   "language": "python",
   "name": "python3"
  },
  "language_info": {
   "codemirror_mode": {
    "name": "ipython",
    "version": 3
   },
   "file_extension": ".py",
   "mimetype": "text/x-python",
   "name": "python",
   "nbconvert_exporter": "python",
   "pygments_lexer": "ipython3",
   "version": "3.12.1"
  }
 },
 "nbformat": 4,
 "nbformat_minor": 2
}
