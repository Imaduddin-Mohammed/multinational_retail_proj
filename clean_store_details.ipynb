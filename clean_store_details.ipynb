{
 "cells": [
  {
   "cell_type": "code",
   "execution_count": 1,
   "metadata": {},
   "outputs": [],
   "source": [
    "from database_utils import DatabaseConnector\n",
    "from data_extraction import DataExtractor\n",
    "from dateutil.parser import parse\n",
    "import pandas as pd"
   ]
  },
  {
   "cell_type": "code",
   "execution_count": 2,
   "metadata": {},
   "outputs": [
    {
     "name": "stdout",
     "output_type": "stream",
     "text": [
      "Retrieving stores dataframe:\n",
      "<class 'pandas.core.frame.DataFrame'>\n",
      "RangeIndex: 451 entries, 0 to 450\n",
      "Data columns (total 12 columns):\n",
      " #   Column         Non-Null Count  Dtype \n",
      "---  ------         --------------  ----- \n",
      " 0   index          451 non-null    int64 \n",
      " 1   address        451 non-null    object\n",
      " 2   longitude      451 non-null    object\n",
      " 3   lat            11 non-null     object\n",
      " 4   locality       451 non-null    object\n",
      " 5   store_code     451 non-null    object\n",
      " 6   staff_numbers  451 non-null    object\n",
      " 7   opening_date   451 non-null    object\n",
      " 8   store_type     451 non-null    object\n",
      " 9   latitude       450 non-null    object\n",
      " 10  country_code   451 non-null    object\n",
      " 11  continent      451 non-null    object\n",
      "dtypes: int64(1), object(11)\n",
      "memory usage: 42.4+ KB\n",
      "None\n"
     ]
    }
   ],
   "source": [
    "connector = DatabaseConnector()\n",
    "engine1, engine2 = connector.init_db_engine()\n",
    "\n",
    "return_the_number_of_stores = \"https://aqj7u5id95.execute-api.eu-west-1.amazonaws.com/prod/number_stores\"\n",
    "retrieve_a_store = \"https://aqj7u5id95.execute-api.eu-west-1.amazonaws.com/prod/store_details/{store_number}\"\n",
    "headers = {'x-api-key': \"yFBQbwXe9J3sd6zWVAMrK6lcxxr0q1lr2PT6DDMX\"}\n",
    "\n",
    "extractor = DataExtractor()\n",
    "store_number = extractor.list_number_of_stores(return_the_number_of_stores)\n",
    "store_df = extractor.retrieve_stores_data(store_number, retrieve_a_store)\n",
    "print(store_df.info())"
   ]
  },
  {
   "cell_type": "code",
   "execution_count": 12,
   "metadata": {},
   "outputs": [
    {
     "data": {
      "text/html": [
       "<div>\n",
       "<style scoped>\n",
       "    .dataframe tbody tr th:only-of-type {\n",
       "        vertical-align: middle;\n",
       "    }\n",
       "\n",
       "    .dataframe tbody tr th {\n",
       "        vertical-align: top;\n",
       "    }\n",
       "\n",
       "    .dataframe thead th {\n",
       "        text-align: right;\n",
       "    }\n",
       "</style>\n",
       "<table border=\"1\" class=\"dataframe\">\n",
       "  <thead>\n",
       "    <tr style=\"text-align: right;\">\n",
       "      <th></th>\n",
       "      <th>index</th>\n",
       "      <th>address</th>\n",
       "      <th>longitude</th>\n",
       "      <th>lat</th>\n",
       "      <th>locality</th>\n",
       "      <th>store_code</th>\n",
       "      <th>staff_numbers</th>\n",
       "      <th>opening_date</th>\n",
       "      <th>store_type</th>\n",
       "      <th>latitude</th>\n",
       "      <th>country_code</th>\n",
       "      <th>continent</th>\n",
       "    </tr>\n",
       "  </thead>\n",
       "  <tbody>\n",
       "    <tr>\n",
       "      <th>0</th>\n",
       "      <td>0</td>\n",
       "      <td>N/A</td>\n",
       "      <td>N/A</td>\n",
       "      <td>N/A</td>\n",
       "      <td>N/A</td>\n",
       "      <td>WEB-1388012W</td>\n",
       "      <td>325</td>\n",
       "      <td>2010-06-12</td>\n",
       "      <td>Web Portal</td>\n",
       "      <td>None</td>\n",
       "      <td>GB</td>\n",
       "      <td>Europe</td>\n",
       "    </tr>\n",
       "    <tr>\n",
       "      <th>1</th>\n",
       "      <td>1</td>\n",
       "      <td>Flat 72W\\nSally isle\\nEast Deantown\\nE7B 8EB, ...</td>\n",
       "      <td>51.62907</td>\n",
       "      <td>None</td>\n",
       "      <td>High Wycombe</td>\n",
       "      <td>HI-9B97EE4E</td>\n",
       "      <td>34</td>\n",
       "      <td>1996-10-25</td>\n",
       "      <td>Local</td>\n",
       "      <td>-0.74934</td>\n",
       "      <td>GB</td>\n",
       "      <td>Europe</td>\n",
       "    </tr>\n",
       "    <tr>\n",
       "      <th>2</th>\n",
       "      <td>2</td>\n",
       "      <td>Heckerstraße 4/5\\n50491 Säckingen, Landshut</td>\n",
       "      <td>48.52961</td>\n",
       "      <td>None</td>\n",
       "      <td>Landshut</td>\n",
       "      <td>LA-0772C7B9</td>\n",
       "      <td>92</td>\n",
       "      <td>2013-04-12</td>\n",
       "      <td>Super Store</td>\n",
       "      <td>12.16179</td>\n",
       "      <td>DE</td>\n",
       "      <td>Europe</td>\n",
       "    </tr>\n",
       "    <tr>\n",
       "      <th>3</th>\n",
       "      <td>3</td>\n",
       "      <td>5 Harrison tunnel\\nSouth Lydia\\nWC9 2BE, Westbury</td>\n",
       "      <td>51.26</td>\n",
       "      <td>None</td>\n",
       "      <td>Westbury</td>\n",
       "      <td>WE-1DE82CEE</td>\n",
       "      <td>69</td>\n",
       "      <td>2014-01-02</td>\n",
       "      <td>Super Store</td>\n",
       "      <td>-2.1875</td>\n",
       "      <td>GB</td>\n",
       "      <td>Europe</td>\n",
       "    </tr>\n",
       "    <tr>\n",
       "      <th>4</th>\n",
       "      <td>4</td>\n",
       "      <td>Studio 6\\nStephen landing\\nSouth Simon\\nB77 2W...</td>\n",
       "      <td>53.0233</td>\n",
       "      <td>None</td>\n",
       "      <td>Belper</td>\n",
       "      <td>BE-18074576</td>\n",
       "      <td>35</td>\n",
       "      <td>2019-09-09</td>\n",
       "      <td>Local</td>\n",
       "      <td>-1.48119</td>\n",
       "      <td>GB</td>\n",
       "      <td>Europe</td>\n",
       "    </tr>\n",
       "    <tr>\n",
       "      <th>5</th>\n",
       "      <td>5</td>\n",
       "      <td>Flat 92u\\nChristian harbors\\nPort Charlotte\\nN...</td>\n",
       "      <td>53.38333</td>\n",
       "      <td>None</td>\n",
       "      <td>Gainsborough</td>\n",
       "      <td>GA-CAD01AC2</td>\n",
       "      <td>36</td>\n",
       "      <td>1995-05-15</td>\n",
       "      <td>Local</td>\n",
       "      <td>-0.76667</td>\n",
       "      <td>GB</td>\n",
       "      <td>Europe</td>\n",
       "    </tr>\n",
       "    <tr>\n",
       "      <th>6</th>\n",
       "      <td>6</td>\n",
       "      <td>7 Gillian rue\\nWest Robertside\\nPH4 8NY, Ruthe...</td>\n",
       "      <td>55.82885</td>\n",
       "      <td>None</td>\n",
       "      <td>Rutherglen</td>\n",
       "      <td>RU-C603E990</td>\n",
       "      <td>92</td>\n",
       "      <td>2001-01-04</td>\n",
       "      <td>Super Store</td>\n",
       "      <td>-4.21376</td>\n",
       "      <td>GB</td>\n",
       "      <td>Europe</td>\n",
       "    </tr>\n",
       "    <tr>\n",
       "      <th>7</th>\n",
       "      <td>7</td>\n",
       "      <td>Lilija-Heß-Allee 660\\n34566 Regensburg, Stuttgart</td>\n",
       "      <td>48.78232</td>\n",
       "      <td>None</td>\n",
       "      <td>Stuttgart</td>\n",
       "      <td>ST-229D997E</td>\n",
       "      <td>34</td>\n",
       "      <td>2000-06-01</td>\n",
       "      <td>Local</td>\n",
       "      <td>9.17702</td>\n",
       "      <td>DE</td>\n",
       "      <td>Europe</td>\n",
       "    </tr>\n",
       "    <tr>\n",
       "      <th>8</th>\n",
       "      <td>8</td>\n",
       "      <td>510 Jill Mill\\nSouth Laura, FL 38723, Kaukauna</td>\n",
       "      <td>44.27804</td>\n",
       "      <td>None</td>\n",
       "      <td>Kaukauna</td>\n",
       "      <td>KA-FA7ED3B8</td>\n",
       "      <td>31</td>\n",
       "      <td>2022-09-05</td>\n",
       "      <td>Local</td>\n",
       "      <td>-88.27205</td>\n",
       "      <td>US</td>\n",
       "      <td>America</td>\n",
       "    </tr>\n",
       "    <tr>\n",
       "      <th>9</th>\n",
       "      <td>9</td>\n",
       "      <td>3 Lee valleys\\nWest Janetview\\nDY4M 2RL, Hartley</td>\n",
       "      <td>51.38673</td>\n",
       "      <td>None</td>\n",
       "      <td>Hartley</td>\n",
       "      <td>HA-974352FE</td>\n",
       "      <td>20</td>\n",
       "      <td>2004-09-11</td>\n",
       "      <td>Local</td>\n",
       "      <td>0.30367</td>\n",
       "      <td>GB</td>\n",
       "      <td>Europe</td>\n",
       "    </tr>\n",
       "    <tr>\n",
       "      <th>10</th>\n",
       "      <td>10</td>\n",
       "      <td>8 Gareth skyway\\nSimmonsview\\nSW4 7PL, Rutherglen</td>\n",
       "      <td>55.82885</td>\n",
       "      <td>None</td>\n",
       "      <td>Rutherglen</td>\n",
       "      <td>RU-9F1136B4</td>\n",
       "      <td>32</td>\n",
       "      <td>October 2012 08</td>\n",
       "      <td>Local</td>\n",
       "      <td>-4.21376</td>\n",
       "      <td>GB</td>\n",
       "      <td>Europe</td>\n",
       "    </tr>\n",
       "    <tr>\n",
       "      <th>11</th>\n",
       "      <td>11</td>\n",
       "      <td>Bergerstr. 1/3\\n59183 Seelow, Siegburg</td>\n",
       "      <td>50.80019</td>\n",
       "      <td>None</td>\n",
       "      <td>Siegburg</td>\n",
       "      <td>SI-ECD52CD9</td>\n",
       "      <td>25</td>\n",
       "      <td>July 2015 14</td>\n",
       "      <td>Local</td>\n",
       "      <td>7.20769</td>\n",
       "      <td>DE</td>\n",
       "      <td>Europe</td>\n",
       "    </tr>\n",
       "  </tbody>\n",
       "</table>\n",
       "</div>"
      ],
      "text/plain": [
       "    index                                            address longitude   lat  \\\n",
       "0       0                                                N/A       N/A   N/A   \n",
       "1       1  Flat 72W\\nSally isle\\nEast Deantown\\nE7B 8EB, ...  51.62907  None   \n",
       "2       2        Heckerstraße 4/5\\n50491 Säckingen, Landshut  48.52961  None   \n",
       "3       3  5 Harrison tunnel\\nSouth Lydia\\nWC9 2BE, Westbury     51.26  None   \n",
       "4       4  Studio 6\\nStephen landing\\nSouth Simon\\nB77 2W...   53.0233  None   \n",
       "5       5  Flat 92u\\nChristian harbors\\nPort Charlotte\\nN...  53.38333  None   \n",
       "6       6  7 Gillian rue\\nWest Robertside\\nPH4 8NY, Ruthe...  55.82885  None   \n",
       "7       7  Lilija-Heß-Allee 660\\n34566 Regensburg, Stuttgart  48.78232  None   \n",
       "8       8     510 Jill Mill\\nSouth Laura, FL 38723, Kaukauna  44.27804  None   \n",
       "9       9   3 Lee valleys\\nWest Janetview\\nDY4M 2RL, Hartley  51.38673  None   \n",
       "10     10  8 Gareth skyway\\nSimmonsview\\nSW4 7PL, Rutherglen  55.82885  None   \n",
       "11     11             Bergerstr. 1/3\\n59183 Seelow, Siegburg  50.80019  None   \n",
       "\n",
       "        locality    store_code staff_numbers     opening_date   store_type  \\\n",
       "0            N/A  WEB-1388012W           325       2010-06-12   Web Portal   \n",
       "1   High Wycombe   HI-9B97EE4E            34       1996-10-25        Local   \n",
       "2       Landshut   LA-0772C7B9            92       2013-04-12  Super Store   \n",
       "3       Westbury   WE-1DE82CEE            69       2014-01-02  Super Store   \n",
       "4         Belper   BE-18074576            35       2019-09-09        Local   \n",
       "5   Gainsborough   GA-CAD01AC2            36       1995-05-15        Local   \n",
       "6     Rutherglen   RU-C603E990            92       2001-01-04  Super Store   \n",
       "7      Stuttgart   ST-229D997E            34       2000-06-01        Local   \n",
       "8       Kaukauna   KA-FA7ED3B8            31       2022-09-05        Local   \n",
       "9        Hartley   HA-974352FE            20       2004-09-11        Local   \n",
       "10    Rutherglen   RU-9F1136B4            32  October 2012 08        Local   \n",
       "11      Siegburg   SI-ECD52CD9            25     July 2015 14        Local   \n",
       "\n",
       "     latitude country_code continent  \n",
       "0        None           GB    Europe  \n",
       "1    -0.74934           GB    Europe  \n",
       "2    12.16179           DE    Europe  \n",
       "3     -2.1875           GB    Europe  \n",
       "4    -1.48119           GB    Europe  \n",
       "5    -0.76667           GB    Europe  \n",
       "6    -4.21376           GB    Europe  \n",
       "7     9.17702           DE    Europe  \n",
       "8   -88.27205           US   America  \n",
       "9     0.30367           GB    Europe  \n",
       "10   -4.21376           GB    Europe  \n",
       "11    7.20769           DE    Europe  "
      ]
     },
     "execution_count": 12,
     "metadata": {},
     "output_type": "execute_result"
    }
   ],
   "source": [
    "store_df.head(12)"
   ]
  },
  {
   "cell_type": "code",
   "execution_count": 3,
   "metadata": {},
   "outputs": [
    {
     "data": {
      "text/plain": [
       "index             0.000000\n",
       "address           0.000000\n",
       "longitude         0.000000\n",
       "lat              97.560976\n",
       "locality          0.000000\n",
       "store_code        0.000000\n",
       "staff_numbers     0.000000\n",
       "opening_date      0.000000\n",
       "store_type        0.000000\n",
       "latitude          0.221729\n",
       "country_code      0.000000\n",
       "continent         0.000000\n",
       "dtype: float64"
      ]
     },
     "execution_count": 3,
     "metadata": {},
     "output_type": "execute_result"
    }
   ],
   "source": [
    "store_df.isna().mean()*100"
   ]
  },
  {
   "cell_type": "code",
   "execution_count": 8,
   "metadata": {},
   "outputs": [
    {
     "data": {
      "text/plain": [
       "continent\n",
       "Europe        383\n",
       "America        32\n",
       "eeEurope       24\n",
       "NULL            3\n",
       "eeAmerica       2\n",
       "QMAVR5H3LD      1\n",
       "LU3E036ZD9      1\n",
       "5586JCLARW      1\n",
       "GFJQ2AAEQ8      1\n",
       "SLQBD982C0      1\n",
       "XQ953VS0FG      1\n",
       "1WZB1TE1HL      1\n",
       "Name: count, dtype: int64"
      ]
     },
     "execution_count": 8,
     "metadata": {},
     "output_type": "execute_result"
    }
   ],
   "source": [
    "store_df.continent.value_counts()"
   ]
  },
  {
   "cell_type": "code",
   "execution_count": 60,
   "metadata": {},
   "outputs": [],
   "source": [
    "hag = store_df.copy()"
   ]
  },
  {
   "cell_type": "code",
   "execution_count": 61,
   "metadata": {},
   "outputs": [
    {
     "data": {
      "text/plain": [
       "index             0.000000\n",
       "address           0.000000\n",
       "longitude         0.000000\n",
       "lat              97.560976\n",
       "locality          0.000000\n",
       "store_code        0.000000\n",
       "staff_numbers     0.000000\n",
       "opening_date      0.000000\n",
       "store_type        0.000000\n",
       "latitude          0.221729\n",
       "country_code      0.000000\n",
       "continent         0.000000\n",
       "dtype: float64"
      ]
     },
     "execution_count": 61,
     "metadata": {},
     "output_type": "execute_result"
    }
   ],
   "source": [
    "hag.isna().mean()*100"
   ]
  },
  {
   "cell_type": "code",
   "execution_count": 59,
   "metadata": {},
   "outputs": [
    {
     "data": {
      "text/html": [
       "<div>\n",
       "<style scoped>\n",
       "    .dataframe tbody tr th:only-of-type {\n",
       "        vertical-align: middle;\n",
       "    }\n",
       "\n",
       "    .dataframe tbody tr th {\n",
       "        vertical-align: top;\n",
       "    }\n",
       "\n",
       "    .dataframe thead th {\n",
       "        text-align: right;\n",
       "    }\n",
       "</style>\n",
       "<table border=\"1\" class=\"dataframe\">\n",
       "  <thead>\n",
       "    <tr style=\"text-align: right;\">\n",
       "      <th></th>\n",
       "      <th>index</th>\n",
       "      <th>address</th>\n",
       "      <th>longitude</th>\n",
       "      <th>lat</th>\n",
       "      <th>locality</th>\n",
       "      <th>store_code</th>\n",
       "      <th>staff_numbers</th>\n",
       "      <th>opening_date</th>\n",
       "      <th>store_type</th>\n",
       "      <th>latitude</th>\n",
       "      <th>country_code</th>\n",
       "      <th>continent</th>\n",
       "    </tr>\n",
       "  </thead>\n",
       "  <tbody>\n",
       "    <tr>\n",
       "      <th>63</th>\n",
       "      <td>63</td>\n",
       "      <td>6FWDZHD7PW</td>\n",
       "      <td>1ZVU03X2P6</td>\n",
       "      <td>13KJZ890JH</td>\n",
       "      <td>9IBH8Y4Z0S</td>\n",
       "      <td>NRQKZWJ9OZ</td>\n",
       "      <td>BIP8K8JJW2</td>\n",
       "      <td>ZCXWWKF45G</td>\n",
       "      <td>QP74AHEQT0</td>\n",
       "      <td>1CJ5OAU4BR</td>\n",
       "      <td>YELVM536YT</td>\n",
       "      <td>QMAVR5H3LD</td>\n",
       "    </tr>\n",
       "    <tr>\n",
       "      <th>172</th>\n",
       "      <td>172</td>\n",
       "      <td>UBCIFQLSNY</td>\n",
       "      <td>Q1TJY8H1ZH</td>\n",
       "      <td>2XE1OWOC23</td>\n",
       "      <td>1T6B406CI8</td>\n",
       "      <td>QIUU9SVP51</td>\n",
       "      <td>SKBXAXF5G5</td>\n",
       "      <td>7AHXLXIUEF</td>\n",
       "      <td>O0QJIRC943</td>\n",
       "      <td>3ZR3F89D97</td>\n",
       "      <td>FP8DLXQVGH</td>\n",
       "      <td>LU3E036ZD9</td>\n",
       "    </tr>\n",
       "    <tr>\n",
       "      <th>217</th>\n",
       "      <td>217</td>\n",
       "      <td>NULL</td>\n",
       "      <td>NULL</td>\n",
       "      <td>NULL</td>\n",
       "      <td>NULL</td>\n",
       "      <td>NULL</td>\n",
       "      <td>NULL</td>\n",
       "      <td>NULL</td>\n",
       "      <td>NULL</td>\n",
       "      <td>NULL</td>\n",
       "      <td>NULL</td>\n",
       "      <td>NULL</td>\n",
       "    </tr>\n",
       "    <tr>\n",
       "      <th>231</th>\n",
       "      <td>231</td>\n",
       "      <td>RC99UKMZB2</td>\n",
       "      <td>2YBZ1440V6</td>\n",
       "      <td>OXVE5QR07O</td>\n",
       "      <td>6LVWPU1G64</td>\n",
       "      <td>Y8J0Z2W8O9</td>\n",
       "      <td>2429OB3LMM</td>\n",
       "      <td>0OLAK2I6NS</td>\n",
       "      <td>50IB01SFAZ</td>\n",
       "      <td>L13EQEQODP</td>\n",
       "      <td>HMHIFNLOBN</td>\n",
       "      <td>5586JCLARW</td>\n",
       "    </tr>\n",
       "    <tr>\n",
       "      <th>333</th>\n",
       "      <td>333</td>\n",
       "      <td>X349GIDWKU</td>\n",
       "      <td>O7NF1FZ74Y</td>\n",
       "      <td>VKA5I8H32X</td>\n",
       "      <td>RX9TCP2RGB</td>\n",
       "      <td>ISEE8A57FE</td>\n",
       "      <td>74BY7HSB6P</td>\n",
       "      <td>A3PMVM800J</td>\n",
       "      <td>0RSNUU3DF5</td>\n",
       "      <td>J3BPB68Z1J</td>\n",
       "      <td>F3AO8V2LHU</td>\n",
       "      <td>GFJQ2AAEQ8</td>\n",
       "    </tr>\n",
       "    <tr>\n",
       "      <th>381</th>\n",
       "      <td>381</td>\n",
       "      <td>ZBGB54ID4H</td>\n",
       "      <td>SKO4NMRNNF</td>\n",
       "      <td>LACCWDI0SB</td>\n",
       "      <td>CQMHKI78BX</td>\n",
       "      <td>T0R2CQBDUS</td>\n",
       "      <td>GT1FO6YGD4</td>\n",
       "      <td>GMMB02LA9V</td>\n",
       "      <td>B4KVQB3P5Y</td>\n",
       "      <td>AJHOMDOHZ4</td>\n",
       "      <td>OH20I92LX3</td>\n",
       "      <td>SLQBD982C0</td>\n",
       "    </tr>\n",
       "    <tr>\n",
       "      <th>405</th>\n",
       "      <td>405</td>\n",
       "      <td>NULL</td>\n",
       "      <td>NULL</td>\n",
       "      <td>NULL</td>\n",
       "      <td>NULL</td>\n",
       "      <td>NULL</td>\n",
       "      <td>NULL</td>\n",
       "      <td>NULL</td>\n",
       "      <td>NULL</td>\n",
       "      <td>NULL</td>\n",
       "      <td>NULL</td>\n",
       "      <td>NULL</td>\n",
       "    </tr>\n",
       "    <tr>\n",
       "      <th>414</th>\n",
       "      <td>414</td>\n",
       "      <td>XTUAV57DP4</td>\n",
       "      <td>ID819KG3X5</td>\n",
       "      <td>A3O5CBWAMD</td>\n",
       "      <td>RY6K0AUE7F</td>\n",
       "      <td>TUOKF5HAAQ</td>\n",
       "      <td>FRTGHAA34B</td>\n",
       "      <td>13PIY8GD1H</td>\n",
       "      <td>X0FE7E2EOG</td>\n",
       "      <td>AE7EEW4HSS</td>\n",
       "      <td>OYVW925ZL8</td>\n",
       "      <td>XQ953VS0FG</td>\n",
       "    </tr>\n",
       "    <tr>\n",
       "      <th>437</th>\n",
       "      <td>437</td>\n",
       "      <td>NULL</td>\n",
       "      <td>NULL</td>\n",
       "      <td>NULL</td>\n",
       "      <td>NULL</td>\n",
       "      <td>NULL</td>\n",
       "      <td>NULL</td>\n",
       "      <td>NULL</td>\n",
       "      <td>NULL</td>\n",
       "      <td>NULL</td>\n",
       "      <td>NULL</td>\n",
       "      <td>NULL</td>\n",
       "    </tr>\n",
       "    <tr>\n",
       "      <th>447</th>\n",
       "      <td>447</td>\n",
       "      <td>K0ODETRLS3</td>\n",
       "      <td>K8CXLZDP07</td>\n",
       "      <td>UXMWDMX1LC</td>\n",
       "      <td>3VHFDNP8ET</td>\n",
       "      <td>9D4LK7X4LZ</td>\n",
       "      <td>D23PCWSM6S</td>\n",
       "      <td>36IIMAQD58</td>\n",
       "      <td>NN04B3F6UQ</td>\n",
       "      <td>JZP8MIJTPZ</td>\n",
       "      <td>B3EH2ZGQAV</td>\n",
       "      <td>1WZB1TE1HL</td>\n",
       "    </tr>\n",
       "  </tbody>\n",
       "</table>\n",
       "</div>"
      ],
      "text/plain": [
       "     index     address   longitude         lat    locality  store_code  \\\n",
       "63      63  6FWDZHD7PW  1ZVU03X2P6  13KJZ890JH  9IBH8Y4Z0S  NRQKZWJ9OZ   \n",
       "172    172  UBCIFQLSNY  Q1TJY8H1ZH  2XE1OWOC23  1T6B406CI8  QIUU9SVP51   \n",
       "217    217        NULL        NULL        NULL        NULL        NULL   \n",
       "231    231  RC99UKMZB2  2YBZ1440V6  OXVE5QR07O  6LVWPU1G64  Y8J0Z2W8O9   \n",
       "333    333  X349GIDWKU  O7NF1FZ74Y  VKA5I8H32X  RX9TCP2RGB  ISEE8A57FE   \n",
       "381    381  ZBGB54ID4H  SKO4NMRNNF  LACCWDI0SB  CQMHKI78BX  T0R2CQBDUS   \n",
       "405    405        NULL        NULL        NULL        NULL        NULL   \n",
       "414    414  XTUAV57DP4  ID819KG3X5  A3O5CBWAMD  RY6K0AUE7F  TUOKF5HAAQ   \n",
       "437    437        NULL        NULL        NULL        NULL        NULL   \n",
       "447    447  K0ODETRLS3  K8CXLZDP07  UXMWDMX1LC  3VHFDNP8ET  9D4LK7X4LZ   \n",
       "\n",
       "    staff_numbers opening_date  store_type    latitude country_code  \\\n",
       "63     BIP8K8JJW2   ZCXWWKF45G  QP74AHEQT0  1CJ5OAU4BR   YELVM536YT   \n",
       "172    SKBXAXF5G5   7AHXLXIUEF  O0QJIRC943  3ZR3F89D97   FP8DLXQVGH   \n",
       "217          NULL         NULL        NULL        NULL         NULL   \n",
       "231    2429OB3LMM   0OLAK2I6NS  50IB01SFAZ  L13EQEQODP   HMHIFNLOBN   \n",
       "333    74BY7HSB6P   A3PMVM800J  0RSNUU3DF5  J3BPB68Z1J   F3AO8V2LHU   \n",
       "381    GT1FO6YGD4   GMMB02LA9V  B4KVQB3P5Y  AJHOMDOHZ4   OH20I92LX3   \n",
       "405          NULL         NULL        NULL        NULL         NULL   \n",
       "414    FRTGHAA34B   13PIY8GD1H  X0FE7E2EOG  AE7EEW4HSS   OYVW925ZL8   \n",
       "437          NULL         NULL        NULL        NULL         NULL   \n",
       "447    D23PCWSM6S   36IIMAQD58  NN04B3F6UQ  JZP8MIJTPZ   B3EH2ZGQAV   \n",
       "\n",
       "      continent  \n",
       "63   QMAVR5H3LD  \n",
       "172  LU3E036ZD9  \n",
       "217        NULL  \n",
       "231  5586JCLARW  \n",
       "333  GFJQ2AAEQ8  \n",
       "381  SLQBD982C0  \n",
       "405        NULL  \n",
       "414  XQ953VS0FG  \n",
       "437        NULL  \n",
       "447  1WZB1TE1HL  "
      ]
     },
     "execution_count": 59,
     "metadata": {},
     "output_type": "execute_result"
    }
   ],
   "source": [
    "dropped"
   ]
  },
  {
   "cell_type": "code",
   "execution_count": 62,
   "metadata": {},
   "outputs": [],
   "source": [
    "hag.replace('NULL', float(\"NaN\"), inplace= True)"
   ]
  },
  {
   "cell_type": "code",
   "execution_count": 65,
   "metadata": {},
   "outputs": [
    {
     "data": {
      "text/plain": [
       "index             0.000000\n",
       "address           0.665188\n",
       "longitude         0.665188\n",
       "lat              98.226164\n",
       "locality          0.665188\n",
       "store_code        0.665188\n",
       "staff_numbers     0.665188\n",
       "opening_date      0.665188\n",
       "store_type        0.665188\n",
       "latitude          0.886918\n",
       "country_code      0.665188\n",
       "continent         0.665188\n",
       "dtype: float64"
      ]
     },
     "execution_count": 65,
     "metadata": {},
     "output_type": "execute_result"
    }
   ],
   "source": [
    "hag.isna().mean()*100"
   ]
  },
  {
   "cell_type": "code",
   "execution_count": 66,
   "metadata": {},
   "outputs": [
    {
     "data": {
      "text/plain": [
       "index  address     longitude   lat         locality    store_code  staff_numbers  opening_date  store_type  latitude    country_code  continent \n",
       "63     6FWDZHD7PW  1ZVU03X2P6  13KJZ890JH  9IBH8Y4Z0S  NRQKZWJ9OZ  BIP8K8JJW2     ZCXWWKF45G    QP74AHEQT0  1CJ5OAU4BR  YELVM536YT    QMAVR5H3LD    1\n",
       "172    UBCIFQLSNY  Q1TJY8H1ZH  2XE1OWOC23  1T6B406CI8  QIUU9SVP51  SKBXAXF5G5     7AHXLXIUEF    O0QJIRC943  3ZR3F89D97  FP8DLXQVGH    LU3E036ZD9    1\n",
       "231    RC99UKMZB2  2YBZ1440V6  OXVE5QR07O  6LVWPU1G64  Y8J0Z2W8O9  2429OB3LMM     0OLAK2I6NS    50IB01SFAZ  L13EQEQODP  HMHIFNLOBN    5586JCLARW    1\n",
       "333    X349GIDWKU  O7NF1FZ74Y  VKA5I8H32X  RX9TCP2RGB  ISEE8A57FE  74BY7HSB6P     A3PMVM800J    0RSNUU3DF5  J3BPB68Z1J  F3AO8V2LHU    GFJQ2AAEQ8    1\n",
       "381    ZBGB54ID4H  SKO4NMRNNF  LACCWDI0SB  CQMHKI78BX  T0R2CQBDUS  GT1FO6YGD4     GMMB02LA9V    B4KVQB3P5Y  AJHOMDOHZ4  OH20I92LX3    SLQBD982C0    1\n",
       "414    XTUAV57DP4  ID819KG3X5  A3O5CBWAMD  RY6K0AUE7F  TUOKF5HAAQ  FRTGHAA34B     13PIY8GD1H    X0FE7E2EOG  AE7EEW4HSS  OYVW925ZL8    XQ953VS0FG    1\n",
       "447    K0ODETRLS3  K8CXLZDP07  UXMWDMX1LC  3VHFDNP8ET  9D4LK7X4LZ  D23PCWSM6S     36IIMAQD58    NN04B3F6UQ  JZP8MIJTPZ  B3EH2ZGQAV    1WZB1TE1HL    1\n",
       "Name: count, dtype: int64"
      ]
     },
     "execution_count": 66,
     "metadata": {},
     "output_type": "execute_result"
    }
   ],
   "source": [
    "hag.value_counts()"
   ]
  },
  {
   "cell_type": "code",
   "execution_count": 67,
   "metadata": {},
   "outputs": [
    {
     "data": {
      "text/plain": [
       "continent\n",
       "Europe        383\n",
       "America        32\n",
       "eeEurope       24\n",
       "eeAmerica       2\n",
       "QMAVR5H3LD      1\n",
       "LU3E036ZD9      1\n",
       "5586JCLARW      1\n",
       "GFJQ2AAEQ8      1\n",
       "SLQBD982C0      1\n",
       "XQ953VS0FG      1\n",
       "1WZB1TE1HL      1\n",
       "Name: count, dtype: int64"
      ]
     },
     "execution_count": 67,
     "metadata": {},
     "output_type": "execute_result"
    }
   ],
   "source": [
    "hag.continent.value_counts()"
   ]
  },
  {
   "cell_type": "code",
   "execution_count": 68,
   "metadata": {},
   "outputs": [
    {
     "data": {
      "text/html": [
       "<div>\n",
       "<style scoped>\n",
       "    .dataframe tbody tr th:only-of-type {\n",
       "        vertical-align: middle;\n",
       "    }\n",
       "\n",
       "    .dataframe tbody tr th {\n",
       "        vertical-align: top;\n",
       "    }\n",
       "\n",
       "    .dataframe thead th {\n",
       "        text-align: right;\n",
       "    }\n",
       "</style>\n",
       "<table border=\"1\" class=\"dataframe\">\n",
       "  <thead>\n",
       "    <tr style=\"text-align: right;\">\n",
       "      <th></th>\n",
       "      <th>index</th>\n",
       "      <th>address</th>\n",
       "      <th>longitude</th>\n",
       "      <th>lat</th>\n",
       "      <th>locality</th>\n",
       "      <th>store_code</th>\n",
       "      <th>staff_numbers</th>\n",
       "      <th>opening_date</th>\n",
       "      <th>store_type</th>\n",
       "      <th>latitude</th>\n",
       "      <th>country_code</th>\n",
       "      <th>continent</th>\n",
       "    </tr>\n",
       "  </thead>\n",
       "  <tbody>\n",
       "    <tr>\n",
       "      <th>0</th>\n",
       "      <td>0</td>\n",
       "      <td>N/A</td>\n",
       "      <td>N/A</td>\n",
       "      <td>N/A</td>\n",
       "      <td>N/A</td>\n",
       "      <td>WEB-1388012W</td>\n",
       "      <td>325</td>\n",
       "      <td>2010-06-12</td>\n",
       "      <td>Web Portal</td>\n",
       "      <td>None</td>\n",
       "      <td>GB</td>\n",
       "      <td>Europe</td>\n",
       "    </tr>\n",
       "    <tr>\n",
       "      <th>1</th>\n",
       "      <td>1</td>\n",
       "      <td>Flat 72W\\nSally isle\\nEast Deantown\\nE7B 8EB, ...</td>\n",
       "      <td>51.62907</td>\n",
       "      <td>None</td>\n",
       "      <td>High Wycombe</td>\n",
       "      <td>HI-9B97EE4E</td>\n",
       "      <td>34</td>\n",
       "      <td>1996-10-25</td>\n",
       "      <td>Local</td>\n",
       "      <td>-0.74934</td>\n",
       "      <td>GB</td>\n",
       "      <td>Europe</td>\n",
       "    </tr>\n",
       "    <tr>\n",
       "      <th>2</th>\n",
       "      <td>2</td>\n",
       "      <td>Heckerstraße 4/5\\n50491 Säckingen, Landshut</td>\n",
       "      <td>48.52961</td>\n",
       "      <td>None</td>\n",
       "      <td>Landshut</td>\n",
       "      <td>LA-0772C7B9</td>\n",
       "      <td>92</td>\n",
       "      <td>2013-04-12</td>\n",
       "      <td>Super Store</td>\n",
       "      <td>12.16179</td>\n",
       "      <td>DE</td>\n",
       "      <td>Europe</td>\n",
       "    </tr>\n",
       "    <tr>\n",
       "      <th>3</th>\n",
       "      <td>3</td>\n",
       "      <td>5 Harrison tunnel\\nSouth Lydia\\nWC9 2BE, Westbury</td>\n",
       "      <td>51.26</td>\n",
       "      <td>None</td>\n",
       "      <td>Westbury</td>\n",
       "      <td>WE-1DE82CEE</td>\n",
       "      <td>69</td>\n",
       "      <td>2014-01-02</td>\n",
       "      <td>Super Store</td>\n",
       "      <td>-2.1875</td>\n",
       "      <td>GB</td>\n",
       "      <td>Europe</td>\n",
       "    </tr>\n",
       "    <tr>\n",
       "      <th>4</th>\n",
       "      <td>4</td>\n",
       "      <td>Studio 6\\nStephen landing\\nSouth Simon\\nB77 2W...</td>\n",
       "      <td>53.0233</td>\n",
       "      <td>None</td>\n",
       "      <td>Belper</td>\n",
       "      <td>BE-18074576</td>\n",
       "      <td>35</td>\n",
       "      <td>2019-09-09</td>\n",
       "      <td>Local</td>\n",
       "      <td>-1.48119</td>\n",
       "      <td>GB</td>\n",
       "      <td>Europe</td>\n",
       "    </tr>\n",
       "    <tr>\n",
       "      <th>...</th>\n",
       "      <td>...</td>\n",
       "      <td>...</td>\n",
       "      <td>...</td>\n",
       "      <td>...</td>\n",
       "      <td>...</td>\n",
       "      <td>...</td>\n",
       "      <td>...</td>\n",
       "      <td>...</td>\n",
       "      <td>...</td>\n",
       "      <td>...</td>\n",
       "      <td>...</td>\n",
       "      <td>...</td>\n",
       "    </tr>\n",
       "    <tr>\n",
       "      <th>445</th>\n",
       "      <td>445</td>\n",
       "      <td>Flat 7\\nStephanie lake\\nMorrisside\\nHP8 8LH, C...</td>\n",
       "      <td>50.76306</td>\n",
       "      <td>None</td>\n",
       "      <td>Cowes</td>\n",
       "      <td>CO-473A9FBB</td>\n",
       "      <td>94</td>\n",
       "      <td>2008-06-08</td>\n",
       "      <td>Super Store</td>\n",
       "      <td>-1.29772</td>\n",
       "      <td>GB</td>\n",
       "      <td>Europe</td>\n",
       "    </tr>\n",
       "    <tr>\n",
       "      <th>446</th>\n",
       "      <td>446</td>\n",
       "      <td>Täschestraße 25\\n39039 Nördlingen, Kirchlengern</td>\n",
       "      <td>52.2</td>\n",
       "      <td>None</td>\n",
       "      <td>Kirchlengern</td>\n",
       "      <td>KI-78096E8C</td>\n",
       "      <td>61</td>\n",
       "      <td>2005-05-12</td>\n",
       "      <td>Super Store</td>\n",
       "      <td>8.63333</td>\n",
       "      <td>DE</td>\n",
       "      <td>Europe</td>\n",
       "    </tr>\n",
       "    <tr>\n",
       "      <th>448</th>\n",
       "      <td>448</td>\n",
       "      <td>Studio 8\\nMoss mall\\nWest Linda\\nM0E 6XR, High...</td>\n",
       "      <td>51.62907</td>\n",
       "      <td>None</td>\n",
       "      <td>High Wycombe</td>\n",
       "      <td>HI-EEA7AE62</td>\n",
       "      <td>33</td>\n",
       "      <td>1998-05-14</td>\n",
       "      <td>Local</td>\n",
       "      <td>-0.74934</td>\n",
       "      <td>GB</td>\n",
       "      <td>Europe</td>\n",
       "    </tr>\n",
       "    <tr>\n",
       "      <th>449</th>\n",
       "      <td>449</td>\n",
       "      <td>Baumplatz 6\\n80114 Kötzting, Bretten</td>\n",
       "      <td>49.03685</td>\n",
       "      <td>None</td>\n",
       "      <td>Bretten</td>\n",
       "      <td>BR-662EC74C</td>\n",
       "      <td>35</td>\n",
       "      <td>2020-10-17</td>\n",
       "      <td>Local</td>\n",
       "      <td>8.70745</td>\n",
       "      <td>DE</td>\n",
       "      <td>Europe</td>\n",
       "    </tr>\n",
       "    <tr>\n",
       "      <th>450</th>\n",
       "      <td>450</td>\n",
       "      <td>Gotthilf-Rose-Straße 7/3\\n45457 Feuchtwangen, ...</td>\n",
       "      <td>50.64336</td>\n",
       "      <td>None</td>\n",
       "      <td>Bad Honnef</td>\n",
       "      <td>BA-B4AED588</td>\n",
       "      <td>36</td>\n",
       "      <td>2001-05-12</td>\n",
       "      <td>Local</td>\n",
       "      <td>7.2278</td>\n",
       "      <td>DE</td>\n",
       "      <td>eeEurope</td>\n",
       "    </tr>\n",
       "  </tbody>\n",
       "</table>\n",
       "<p>444 rows × 12 columns</p>\n",
       "</div>"
      ],
      "text/plain": [
       "     index                                            address longitude   lat  \\\n",
       "0        0                                                N/A       N/A   N/A   \n",
       "1        1  Flat 72W\\nSally isle\\nEast Deantown\\nE7B 8EB, ...  51.62907  None   \n",
       "2        2        Heckerstraße 4/5\\n50491 Säckingen, Landshut  48.52961  None   \n",
       "3        3  5 Harrison tunnel\\nSouth Lydia\\nWC9 2BE, Westbury     51.26  None   \n",
       "4        4  Studio 6\\nStephen landing\\nSouth Simon\\nB77 2W...   53.0233  None   \n",
       "..     ...                                                ...       ...   ...   \n",
       "445    445  Flat 7\\nStephanie lake\\nMorrisside\\nHP8 8LH, C...  50.76306  None   \n",
       "446    446    Täschestraße 25\\n39039 Nördlingen, Kirchlengern      52.2  None   \n",
       "448    448  Studio 8\\nMoss mall\\nWest Linda\\nM0E 6XR, High...  51.62907  None   \n",
       "449    449               Baumplatz 6\\n80114 Kötzting, Bretten  49.03685  None   \n",
       "450    450  Gotthilf-Rose-Straße 7/3\\n45457 Feuchtwangen, ...  50.64336  None   \n",
       "\n",
       "         locality    store_code staff_numbers opening_date   store_type  \\\n",
       "0             N/A  WEB-1388012W           325   2010-06-12   Web Portal   \n",
       "1    High Wycombe   HI-9B97EE4E            34   1996-10-25        Local   \n",
       "2        Landshut   LA-0772C7B9            92   2013-04-12  Super Store   \n",
       "3        Westbury   WE-1DE82CEE            69   2014-01-02  Super Store   \n",
       "4          Belper   BE-18074576            35   2019-09-09        Local   \n",
       "..            ...           ...           ...          ...          ...   \n",
       "445         Cowes   CO-473A9FBB            94   2008-06-08  Super Store   \n",
       "446  Kirchlengern   KI-78096E8C            61   2005-05-12  Super Store   \n",
       "448  High Wycombe   HI-EEA7AE62            33   1998-05-14        Local   \n",
       "449       Bretten   BR-662EC74C            35   2020-10-17        Local   \n",
       "450    Bad Honnef   BA-B4AED588            36   2001-05-12        Local   \n",
       "\n",
       "     latitude country_code continent  \n",
       "0        None           GB    Europe  \n",
       "1    -0.74934           GB    Europe  \n",
       "2    12.16179           DE    Europe  \n",
       "3     -2.1875           GB    Europe  \n",
       "4    -1.48119           GB    Europe  \n",
       "..        ...          ...       ...  \n",
       "445  -1.29772           GB    Europe  \n",
       "446   8.63333           DE    Europe  \n",
       "448  -0.74934           GB    Europe  \n",
       "449   8.70745           DE    Europe  \n",
       "450    7.2278           DE  eeEurope  \n",
       "\n",
       "[444 rows x 12 columns]"
      ]
     },
     "execution_count": 68,
     "metadata": {},
     "output_type": "execute_result"
    }
   ],
   "source": [
    "gibberish_values = ['QMAVR5H3LD', 'LU3E036ZD9', '5586JCLARW', 'GFJQ2AAEQ8', 'SLQBD982C0', 'XQ953VS0FG', '1WZB1TE1HL']\n",
    "filtered_df = hag[~hag.continent.isin(gibberish_values)]\n",
    "filtered_df"
   ]
  },
  {
   "cell_type": "code",
   "execution_count": 69,
   "metadata": {},
   "outputs": [
    {
     "name": "stdout",
     "output_type": "stream",
     "text": [
      "<class 'pandas.core.frame.DataFrame'>\n",
      "Index: 444 entries, 0 to 450\n",
      "Data columns (total 12 columns):\n",
      " #   Column         Non-Null Count  Dtype \n",
      "---  ------         --------------  ----- \n",
      " 0   index          444 non-null    int64 \n",
      " 1   address        441 non-null    object\n",
      " 2   longitude      441 non-null    object\n",
      " 3   lat            1 non-null      object\n",
      " 4   locality       441 non-null    object\n",
      " 5   store_code     441 non-null    object\n",
      " 6   staff_numbers  441 non-null    object\n",
      " 7   opening_date   441 non-null    object\n",
      " 8   store_type     441 non-null    object\n",
      " 9   latitude       440 non-null    object\n",
      " 10  country_code   441 non-null    object\n",
      " 11  continent      441 non-null    object\n",
      "dtypes: int64(1), object(11)\n",
      "memory usage: 45.1+ KB\n"
     ]
    }
   ],
   "source": [
    "filtered_df.info()"
   ]
  },
  {
   "cell_type": "code",
   "execution_count": 70,
   "metadata": {},
   "outputs": [
    {
     "data": {
      "text/plain": [
       "index             0.000000\n",
       "address           0.675676\n",
       "longitude         0.675676\n",
       "lat              99.774775\n",
       "locality          0.675676\n",
       "store_code        0.675676\n",
       "staff_numbers     0.675676\n",
       "opening_date      0.675676\n",
       "store_type        0.675676\n",
       "latitude          0.900901\n",
       "country_code      0.675676\n",
       "continent         0.675676\n",
       "dtype: float64"
      ]
     },
     "execution_count": 70,
     "metadata": {},
     "output_type": "execute_result"
    }
   ],
   "source": [
    "filtered_df.isna().mean()*100"
   ]
  },
  {
   "cell_type": "code",
   "execution_count": 74,
   "metadata": {},
   "outputs": [
    {
     "name": "stderr",
     "output_type": "stream",
     "text": [
      "C:\\Users\\mohdi\\AppData\\Local\\Temp\\ipykernel_20552\\800011896.py:1: SettingWithCopyWarning: \n",
      "A value is trying to be set on a copy of a slice from a DataFrame\n",
      "\n",
      "See the caveats in the documentation: https://pandas.pydata.org/pandas-docs/stable/user_guide/indexing.html#returning-a-view-versus-a-copy\n",
      "  filtered_df.drop('lat', axis = 1 , inplace= True)\n"
     ]
    }
   ],
   "source": [
    "filtered_df.drop('lat', axis = 1 , inplace= True)"
   ]
  },
  {
   "cell_type": "code",
   "execution_count": 75,
   "metadata": {},
   "outputs": [
    {
     "name": "stdout",
     "output_type": "stream",
     "text": [
      "<class 'pandas.core.frame.DataFrame'>\n",
      "Index: 444 entries, 0 to 450\n",
      "Data columns (total 11 columns):\n",
      " #   Column         Non-Null Count  Dtype \n",
      "---  ------         --------------  ----- \n",
      " 0   index          444 non-null    int64 \n",
      " 1   address        441 non-null    object\n",
      " 2   longitude      441 non-null    object\n",
      " 3   locality       441 non-null    object\n",
      " 4   store_code     441 non-null    object\n",
      " 5   staff_numbers  441 non-null    object\n",
      " 6   opening_date   441 non-null    object\n",
      " 7   store_type     441 non-null    object\n",
      " 8   latitude       440 non-null    object\n",
      " 9   country_code   441 non-null    object\n",
      " 10  continent      441 non-null    object\n",
      "dtypes: int64(1), object(10)\n",
      "memory usage: 41.6+ KB\n"
     ]
    }
   ],
   "source": [
    "filtered_df.info()"
   ]
  },
  {
   "cell_type": "code",
   "execution_count": 78,
   "metadata": {},
   "outputs": [
    {
     "data": {
      "text/plain": [
       "continent\n",
       "Europe     407\n",
       "America     34\n",
       "Name: count, dtype: int64"
      ]
     },
     "execution_count": 78,
     "metadata": {},
     "output_type": "execute_result"
    }
   ],
   "source": [
    "filtered_df.continent.value_counts()"
   ]
  },
  {
   "cell_type": "code",
   "execution_count": 77,
   "metadata": {},
   "outputs": [
    {
     "name": "stderr",
     "output_type": "stream",
     "text": [
      "C:\\Users\\mohdi\\AppData\\Local\\Temp\\ipykernel_20552\\1661455072.py:1: SettingWithCopyWarning: \n",
      "A value is trying to be set on a copy of a slice from a DataFrame\n",
      "\n",
      "See the caveats in the documentation: https://pandas.pydata.org/pandas-docs/stable/user_guide/indexing.html#returning-a-view-versus-a-copy\n",
      "  filtered_df.continent.replace('eeEurope', 'Europe', inplace= True)\n",
      "C:\\Users\\mohdi\\AppData\\Local\\Temp\\ipykernel_20552\\1661455072.py:2: SettingWithCopyWarning: \n",
      "A value is trying to be set on a copy of a slice from a DataFrame\n",
      "\n",
      "See the caveats in the documentation: https://pandas.pydata.org/pandas-docs/stable/user_guide/indexing.html#returning-a-view-versus-a-copy\n",
      "  filtered_df.continent.replace('eeAmerica', 'America', inplace= True)\n"
     ]
    }
   ],
   "source": [
    "filtered_df.continent.replace('eeEurope', 'Europe', inplace= True)\n",
    "filtered_df.continent.replace('eeAmerica', 'America', inplace= True)"
   ]
  },
  {
   "cell_type": "code",
   "execution_count": 79,
   "metadata": {},
   "outputs": [
    {
     "name": "stdout",
     "output_type": "stream",
     "text": [
      "<class 'pandas.core.frame.DataFrame'>\n",
      "Index: 444 entries, 0 to 450\n",
      "Data columns (total 11 columns):\n",
      " #   Column         Non-Null Count  Dtype \n",
      "---  ------         --------------  ----- \n",
      " 0   index          444 non-null    int64 \n",
      " 1   address        441 non-null    object\n",
      " 2   longitude      441 non-null    object\n",
      " 3   locality       441 non-null    object\n",
      " 4   store_code     441 non-null    object\n",
      " 5   staff_numbers  441 non-null    object\n",
      " 6   opening_date   441 non-null    object\n",
      " 7   store_type     441 non-null    object\n",
      " 8   latitude       440 non-null    object\n",
      " 9   country_code   441 non-null    object\n",
      " 10  continent      441 non-null    object\n",
      "dtypes: int64(1), object(10)\n",
      "memory usage: 41.6+ KB\n"
     ]
    }
   ],
   "source": [
    "filtered_df.info()"
   ]
  },
  {
   "cell_type": "code",
   "execution_count": 81,
   "metadata": {},
   "outputs": [],
   "source": [
    "fil = filtered_df.copy()"
   ]
  },
  {
   "cell_type": "code",
   "execution_count": 82,
   "metadata": {},
   "outputs": [],
   "source": [
    "fil.dropna(how = 'all', axis= 0, inplace= True)"
   ]
  },
  {
   "cell_type": "code",
   "execution_count": 83,
   "metadata": {},
   "outputs": [
    {
     "name": "stdout",
     "output_type": "stream",
     "text": [
      "<class 'pandas.core.frame.DataFrame'>\n",
      "Index: 444 entries, 0 to 450\n",
      "Data columns (total 11 columns):\n",
      " #   Column         Non-Null Count  Dtype \n",
      "---  ------         --------------  ----- \n",
      " 0   index          444 non-null    int64 \n",
      " 1   address        441 non-null    object\n",
      " 2   longitude      441 non-null    object\n",
      " 3   locality       441 non-null    object\n",
      " 4   store_code     441 non-null    object\n",
      " 5   staff_numbers  441 non-null    object\n",
      " 6   opening_date   441 non-null    object\n",
      " 7   store_type     441 non-null    object\n",
      " 8   latitude       440 non-null    object\n",
      " 9   country_code   441 non-null    object\n",
      " 10  continent      441 non-null    object\n",
      "dtypes: int64(1), object(10)\n",
      "memory usage: 41.6+ KB\n"
     ]
    }
   ],
   "source": [
    "fil.info()"
   ]
  },
  {
   "cell_type": "code",
   "execution_count": 95,
   "metadata": {},
   "outputs": [
    {
     "ename": "ValueError",
     "evalue": "time data \"October 2012 08\" doesn't match format \"%Y-%m-%d\", at position 10. You might want to try:\n    - passing `format` if your strings have a consistent format;\n    - passing `format='ISO8601'` if your strings are all ISO8601 but not necessarily in exactly the same format;\n    - passing `format='mixed'`, and the format will be inferred for each element individually. You might want to use `dayfirst` alongside this.",
     "output_type": "error",
     "traceback": [
      "\u001b[1;31m---------------------------------------------------------------------------\u001b[0m",
      "\u001b[1;31mValueError\u001b[0m                                Traceback (most recent call last)",
      "Cell \u001b[1;32mIn[95], line 1\u001b[0m\n\u001b[1;32m----> 1\u001b[0m fil\u001b[38;5;241m.\u001b[39mopening_date \u001b[38;5;241m=\u001b[39m \u001b[43mpd\u001b[49m\u001b[38;5;241;43m.\u001b[39;49m\u001b[43mto_datetime\u001b[49m\u001b[43m(\u001b[49m\u001b[43mfil\u001b[49m\u001b[38;5;241;43m.\u001b[39;49m\u001b[43mopening_date\u001b[49m\u001b[43m)\u001b[49m\u001b[38;5;241m.\u001b[39mapply(parse)\n",
      "File \u001b[1;32mc:\\Users\\mohdi\\Miniconda3\\envs\\mrdc\\Lib\\site-packages\\pandas\\core\\tools\\datetimes.py:1067\u001b[0m, in \u001b[0;36mto_datetime\u001b[1;34m(arg, errors, dayfirst, yearfirst, utc, format, exact, unit, infer_datetime_format, origin, cache)\u001b[0m\n\u001b[0;32m   1065\u001b[0m         result \u001b[38;5;241m=\u001b[39m arg\u001b[38;5;241m.\u001b[39mmap(cache_array)\n\u001b[0;32m   1066\u001b[0m     \u001b[38;5;28;01melse\u001b[39;00m:\n\u001b[1;32m-> 1067\u001b[0m         values \u001b[38;5;241m=\u001b[39m \u001b[43mconvert_listlike\u001b[49m\u001b[43m(\u001b[49m\u001b[43marg\u001b[49m\u001b[38;5;241;43m.\u001b[39;49m\u001b[43m_values\u001b[49m\u001b[43m,\u001b[49m\u001b[43m \u001b[49m\u001b[38;5;28;43mformat\u001b[39;49m\u001b[43m)\u001b[49m\n\u001b[0;32m   1068\u001b[0m         result \u001b[38;5;241m=\u001b[39m arg\u001b[38;5;241m.\u001b[39m_constructor(values, index\u001b[38;5;241m=\u001b[39marg\u001b[38;5;241m.\u001b[39mindex, name\u001b[38;5;241m=\u001b[39marg\u001b[38;5;241m.\u001b[39mname)\n\u001b[0;32m   1069\u001b[0m \u001b[38;5;28;01melif\u001b[39;00m \u001b[38;5;28misinstance\u001b[39m(arg, (ABCDataFrame, abc\u001b[38;5;241m.\u001b[39mMutableMapping)):\n",
      "File \u001b[1;32mc:\\Users\\mohdi\\Miniconda3\\envs\\mrdc\\Lib\\site-packages\\pandas\\core\\tools\\datetimes.py:433\u001b[0m, in \u001b[0;36m_convert_listlike_datetimes\u001b[1;34m(arg, format, name, utc, unit, errors, dayfirst, yearfirst, exact)\u001b[0m\n\u001b[0;32m    431\u001b[0m \u001b[38;5;66;03m# `format` could be inferred, or user didn't ask for mixed-format parsing.\u001b[39;00m\n\u001b[0;32m    432\u001b[0m \u001b[38;5;28;01mif\u001b[39;00m \u001b[38;5;28mformat\u001b[39m \u001b[38;5;129;01mis\u001b[39;00m \u001b[38;5;129;01mnot\u001b[39;00m \u001b[38;5;28;01mNone\u001b[39;00m \u001b[38;5;129;01mand\u001b[39;00m \u001b[38;5;28mformat\u001b[39m \u001b[38;5;241m!=\u001b[39m \u001b[38;5;124m\"\u001b[39m\u001b[38;5;124mmixed\u001b[39m\u001b[38;5;124m\"\u001b[39m:\n\u001b[1;32m--> 433\u001b[0m     \u001b[38;5;28;01mreturn\u001b[39;00m \u001b[43m_array_strptime_with_fallback\u001b[49m\u001b[43m(\u001b[49m\u001b[43marg\u001b[49m\u001b[43m,\u001b[49m\u001b[43m \u001b[49m\u001b[43mname\u001b[49m\u001b[43m,\u001b[49m\u001b[43m \u001b[49m\u001b[43mutc\u001b[49m\u001b[43m,\u001b[49m\u001b[43m \u001b[49m\u001b[38;5;28;43mformat\u001b[39;49m\u001b[43m,\u001b[49m\u001b[43m \u001b[49m\u001b[43mexact\u001b[49m\u001b[43m,\u001b[49m\u001b[43m \u001b[49m\u001b[43merrors\u001b[49m\u001b[43m)\u001b[49m\n\u001b[0;32m    435\u001b[0m result, tz_parsed \u001b[38;5;241m=\u001b[39m objects_to_datetime64(\n\u001b[0;32m    436\u001b[0m     arg,\n\u001b[0;32m    437\u001b[0m     dayfirst\u001b[38;5;241m=\u001b[39mdayfirst,\n\u001b[1;32m   (...)\u001b[0m\n\u001b[0;32m    441\u001b[0m     allow_object\u001b[38;5;241m=\u001b[39m\u001b[38;5;28;01mTrue\u001b[39;00m,\n\u001b[0;32m    442\u001b[0m )\n\u001b[0;32m    444\u001b[0m \u001b[38;5;28;01mif\u001b[39;00m tz_parsed \u001b[38;5;129;01mis\u001b[39;00m \u001b[38;5;129;01mnot\u001b[39;00m \u001b[38;5;28;01mNone\u001b[39;00m:\n\u001b[0;32m    445\u001b[0m     \u001b[38;5;66;03m# We can take a shortcut since the datetime64 numpy array\u001b[39;00m\n\u001b[0;32m    446\u001b[0m     \u001b[38;5;66;03m# is in UTC\u001b[39;00m\n",
      "File \u001b[1;32mc:\\Users\\mohdi\\Miniconda3\\envs\\mrdc\\Lib\\site-packages\\pandas\\core\\tools\\datetimes.py:467\u001b[0m, in \u001b[0;36m_array_strptime_with_fallback\u001b[1;34m(arg, name, utc, fmt, exact, errors)\u001b[0m\n\u001b[0;32m    456\u001b[0m \u001b[38;5;28;01mdef\u001b[39;00m \u001b[38;5;21m_array_strptime_with_fallback\u001b[39m(\n\u001b[0;32m    457\u001b[0m     arg,\n\u001b[0;32m    458\u001b[0m     name,\n\u001b[1;32m   (...)\u001b[0m\n\u001b[0;32m    462\u001b[0m     errors: \u001b[38;5;28mstr\u001b[39m,\n\u001b[0;32m    463\u001b[0m ) \u001b[38;5;241m-\u001b[39m\u001b[38;5;241m>\u001b[39m Index:\n\u001b[0;32m    464\u001b[0m \u001b[38;5;250m    \u001b[39m\u001b[38;5;124;03m\"\"\"\u001b[39;00m\n\u001b[0;32m    465\u001b[0m \u001b[38;5;124;03m    Call array_strptime, with fallback behavior depending on 'errors'.\u001b[39;00m\n\u001b[0;32m    466\u001b[0m \u001b[38;5;124;03m    \"\"\"\u001b[39;00m\n\u001b[1;32m--> 467\u001b[0m     result, tz_out \u001b[38;5;241m=\u001b[39m \u001b[43marray_strptime\u001b[49m\u001b[43m(\u001b[49m\u001b[43marg\u001b[49m\u001b[43m,\u001b[49m\u001b[43m \u001b[49m\u001b[43mfmt\u001b[49m\u001b[43m,\u001b[49m\u001b[43m \u001b[49m\u001b[43mexact\u001b[49m\u001b[38;5;241;43m=\u001b[39;49m\u001b[43mexact\u001b[49m\u001b[43m,\u001b[49m\u001b[43m \u001b[49m\u001b[43merrors\u001b[49m\u001b[38;5;241;43m=\u001b[39;49m\u001b[43merrors\u001b[49m\u001b[43m,\u001b[49m\u001b[43m \u001b[49m\u001b[43mutc\u001b[49m\u001b[38;5;241;43m=\u001b[39;49m\u001b[43mutc\u001b[49m\u001b[43m)\u001b[49m\n\u001b[0;32m    468\u001b[0m     \u001b[38;5;28;01mif\u001b[39;00m tz_out \u001b[38;5;129;01mis\u001b[39;00m \u001b[38;5;129;01mnot\u001b[39;00m \u001b[38;5;28;01mNone\u001b[39;00m:\n\u001b[0;32m    469\u001b[0m         unit \u001b[38;5;241m=\u001b[39m np\u001b[38;5;241m.\u001b[39mdatetime_data(result\u001b[38;5;241m.\u001b[39mdtype)[\u001b[38;5;241m0\u001b[39m]\n",
      "File \u001b[1;32mstrptime.pyx:501\u001b[0m, in \u001b[0;36mpandas._libs.tslibs.strptime.array_strptime\u001b[1;34m()\u001b[0m\n",
      "File \u001b[1;32mstrptime.pyx:451\u001b[0m, in \u001b[0;36mpandas._libs.tslibs.strptime.array_strptime\u001b[1;34m()\u001b[0m\n",
      "File \u001b[1;32mstrptime.pyx:583\u001b[0m, in \u001b[0;36mpandas._libs.tslibs.strptime._parse_with_format\u001b[1;34m()\u001b[0m\n",
      "\u001b[1;31mValueError\u001b[0m: time data \"October 2012 08\" doesn't match format \"%Y-%m-%d\", at position 10. You might want to try:\n    - passing `format` if your strings have a consistent format;\n    - passing `format='ISO8601'` if your strings are all ISO8601 but not necessarily in exactly the same format;\n    - passing `format='mixed'`, and the format will be inferred for each element individually. You might want to use `dayfirst` alongside this."
     ]
    }
   ],
   "source": [
    "fil.opening_date = pd.to_datetime(fil.opening_date).apply(parse)"
   ]
  },
  {
   "cell_type": "code",
   "execution_count": 99,
   "metadata": {},
   "outputs": [],
   "source": [
    "fil.opening_date = fil.opening_date.astype('datetime64[ns]')"
   ]
  },
  {
   "cell_type": "code",
   "execution_count": 101,
   "metadata": {},
   "outputs": [
    {
     "data": {
      "text/plain": [
       "0     2010-06-12\n",
       "1     1996-10-25\n",
       "2     2013-04-12\n",
       "3     2014-01-02\n",
       "4     2019-09-09\n",
       "         ...    \n",
       "445   2008-06-08\n",
       "446   2005-05-12\n",
       "448   1998-05-14\n",
       "449   2020-10-17\n",
       "450   2001-05-12\n",
       "Name: opening_date, Length: 444, dtype: datetime64[ns]"
      ]
     },
     "execution_count": 101,
     "metadata": {},
     "output_type": "execute_result"
    }
   ],
   "source": [
    "fil.opening_date"
   ]
  },
  {
   "cell_type": "code",
   "execution_count": 102,
   "metadata": {},
   "outputs": [
    {
     "data": {
      "text/plain": [
       "staff_numbers\n",
       "20     18\n",
       "33     17\n",
       "29     16\n",
       "28     16\n",
       "7      16\n",
       "       ..\n",
       "128     1\n",
       "76      1\n",
       "58      1\n",
       "56      1\n",
       "61      1\n",
       "Name: count, Length: 106, dtype: int64"
      ]
     },
     "execution_count": 102,
     "metadata": {},
     "output_type": "execute_result"
    }
   ],
   "source": [
    "fil.staff_numbers.value_counts()"
   ]
  },
  {
   "cell_type": "code",
   "execution_count": 104,
   "metadata": {},
   "outputs": [
    {
     "data": {
      "text/plain": [
       "store_code\n",
       "WEB-1388012W    1\n",
       "BR-CACF7508     1\n",
       "GA-D570038A     1\n",
       "CH-7638016B     1\n",
       "GI-718674C0     1\n",
       "               ..\n",
       "SU-5F78B30A     1\n",
       "CL-DA5365DF     1\n",
       "ME-9940FF73     1\n",
       "BU-5B54171E     1\n",
       "BA-B4AED588     1\n",
       "Name: count, Length: 441, dtype: int64"
      ]
     },
     "execution_count": 104,
     "metadata": {},
     "output_type": "execute_result"
    }
   ],
   "source": [
    "fil.store_code.value_counts()"
   ]
  },
  {
   "cell_type": "code",
   "execution_count": 110,
   "metadata": {},
   "outputs": [
    {
     "name": "stdout",
     "output_type": "stream",
     "text": [
      "<class 'pandas.core.frame.DataFrame'>\n",
      "Index: 444 entries, 0 to 450\n",
      "Data columns (total 11 columns):\n",
      " #   Column         Non-Null Count  Dtype         \n",
      "---  ------         --------------  -----         \n",
      " 0   index          444 non-null    int64         \n",
      " 1   address        441 non-null    object        \n",
      " 2   longitude      441 non-null    object        \n",
      " 3   locality       441 non-null    object        \n",
      " 4   store_code     441 non-null    object        \n",
      " 5   staff_numbers  441 non-null    object        \n",
      " 6   opening_date   441 non-null    datetime64[ns]\n",
      " 7   store_type     441 non-null    object        \n",
      " 8   latitude       440 non-null    object        \n",
      " 9   country_code   441 non-null    category      \n",
      " 10  continent      441 non-null    category      \n",
      "dtypes: category(2), datetime64[ns](1), int64(1), object(7)\n",
      "memory usage: 35.8+ KB\n"
     ]
    }
   ],
   "source": [
    "fil.info()"
   ]
  },
  {
   "cell_type": "code",
   "execution_count": 106,
   "metadata": {},
   "outputs": [],
   "source": [
    "fil.continent = fil.continent.astype('category')"
   ]
  },
  {
   "cell_type": "code",
   "execution_count": 109,
   "metadata": {},
   "outputs": [],
   "source": [
    "fil.country_code = fil.country_code.astype('category')"
   ]
  },
  {
   "cell_type": "code",
   "execution_count": 121,
   "metadata": {},
   "outputs": [
    {
     "data": {
      "text/plain": [
       "address\n",
       "N/A                                                               1\n",
       "98501 Emily Field Suite 577\\nWest Michael, IN 29247, Brunswick    1\n",
       "8 Baker orchard\\nJoycestad\\nS7 3XE, Gainsborough                  1\n",
       "Kadestr. 0\\n65793 Hildesheim, Charlottenburg-Nord                 1\n",
       "Döringallee 7\\n21119 Sankt Goarshausen, Gifhorn                   1\n",
       "                                                                 ..\n",
       "0 Wall cliff\\nEast Kevin\\nML7A 6LS, Surbiton                      1\n",
       "Flat 7\\nBond passage\\nPort Katefurt\\nCA9 5AX, Clacton-on-Sea      1\n",
       "Eugenie-Pruschke-Straße 5\\n31111 Badibling, Memmingen             1\n",
       "Studio 7\\nPatel motorway\\nStevenburgh\\nB0C 8JF, Bushey            1\n",
       "Gotthilf-Rose-Straße 7/3\\n45457 Feuchtwangen, Bad Honnef          1\n",
       "Name: count, Length: 441, dtype: int64"
      ]
     },
     "execution_count": 121,
     "metadata": {},
     "output_type": "execute_result"
    }
   ],
   "source": [
    "fil.address.value_counts()"
   ]
  },
  {
   "cell_type": "code",
   "execution_count": null,
   "metadata": {},
   "outputs": [],
   "source": []
  }
 ],
 "metadata": {
  "kernelspec": {
   "display_name": "mrdc",
   "language": "python",
   "name": "python3"
  },
  "language_info": {
   "codemirror_mode": {
    "name": "ipython",
    "version": 3
   },
   "file_extension": ".py",
   "mimetype": "text/x-python",
   "name": "python",
   "nbconvert_exporter": "python",
   "pygments_lexer": "ipython3",
   "version": "3.12.1"
  }
 },
 "nbformat": 4,
 "nbformat_minor": 2
}
