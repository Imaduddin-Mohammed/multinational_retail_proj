{
 "cells": [
  {
   "cell_type": "code",
   "execution_count": 1,
   "metadata": {},
   "outputs": [],
   "source": [
    "from database_utils import DatabaseConnector\n",
    "from data_extraction import DataExtractor\n",
    "from data_cleaning import DataCleaning\n",
    "from dateutil.parser import parse\n",
    "import pandas as pd\n",
    "from decouple import config\n",
    "import re\n",
    "import numpy as np\n"
   ]
  },
  {
   "cell_type": "code",
   "execution_count": 2,
   "metadata": {},
   "outputs": [],
   "source": [
    "connector = DatabaseConnector()\n",
    "cred_path ='db_creds.yaml'\n",
    "credentials = connector.read_db_creds(file_path = cred_path)\n",
    "engine1, engine2 = connector.init_db_engine(credentials)\n",
    "extractor = DataExtractor()"
   ]
  },
  {
   "cell_type": "code",
   "execution_count": 3,
   "metadata": {},
   "outputs": [
    {
     "name": "stdout",
     "output_type": "stream",
     "text": [
      "Extracted successfully to this path: \\Users\\mohdi\\multinationalrdc\\multinational_retail_proj\\products.csv \n",
      "<class 'pandas.core.frame.DataFrame'>\n",
      "Index: 1853 entries, 0 to 1852\n",
      "Data columns (total 9 columns):\n",
      " #   Column         Non-Null Count  Dtype \n",
      "---  ------         --------------  ----- \n",
      " 0   product_name   1849 non-null   object\n",
      " 1   product_price  1849 non-null   object\n",
      " 2   weight         1849 non-null   object\n",
      " 3   category       1849 non-null   object\n",
      " 4   EAN            1849 non-null   object\n",
      " 5   date_added     1849 non-null   object\n",
      " 6   uuid           1849 non-null   object\n",
      " 7   removed        1849 non-null   object\n",
      " 8   product_code   1849 non-null   object\n",
      "dtypes: object(9)\n",
      "memory usage: 144.8+ KB\n",
      "None\n"
     ]
    }
   ],
   "source": [
    "s3_address = config('S3_ADDRESS')\n",
    "csv_filepath = config('CSV_FILEPATH')\n",
    "#make sure to configure aws credentials before running this method\n",
    "products_df, csv_file = extractor.extract_from_s3(s3_address, csv_filepath)\n",
    "print(products_df.info())"
   ]
  },
  {
   "cell_type": "code",
   "execution_count": 4,
   "metadata": {},
   "outputs": [],
   "source": [
    "df = products_df.copy()"
   ]
  },
  {
   "cell_type": "code",
   "execution_count": 6,
   "metadata": {},
   "outputs": [
    {
     "data": {
      "text/html": [
       "<div>\n",
       "<style scoped>\n",
       "    .dataframe tbody tr th:only-of-type {\n",
       "        vertical-align: middle;\n",
       "    }\n",
       "\n",
       "    .dataframe tbody tr th {\n",
       "        vertical-align: top;\n",
       "    }\n",
       "\n",
       "    .dataframe thead th {\n",
       "        text-align: right;\n",
       "    }\n",
       "</style>\n",
       "<table border=\"1\" class=\"dataframe\">\n",
       "  <thead>\n",
       "    <tr style=\"text-align: right;\">\n",
       "      <th></th>\n",
       "      <th>product_name</th>\n",
       "      <th>product_price</th>\n",
       "      <th>weight</th>\n",
       "      <th>category</th>\n",
       "      <th>EAN</th>\n",
       "      <th>date_added</th>\n",
       "      <th>uuid</th>\n",
       "      <th>removed</th>\n",
       "      <th>product_code</th>\n",
       "    </tr>\n",
       "  </thead>\n",
       "  <tbody>\n",
       "    <tr>\n",
       "      <th>751</th>\n",
       "      <td>VLPCU81M30</td>\n",
       "      <td>XCD69KUI0K</td>\n",
       "      <td>9GO9NZ5JTL</td>\n",
       "      <td>S1YB74MLMJ</td>\n",
       "      <td>OO7KH8P79I</td>\n",
       "      <td>CCAVRB79VV</td>\n",
       "      <td>7QB0Z9EW1G</td>\n",
       "      <td>T3QRRH7SRP</td>\n",
       "      <td>SDAV678FVD</td>\n",
       "    </tr>\n",
       "    <tr>\n",
       "      <th>1133</th>\n",
       "      <td>9SX4G65YUX</td>\n",
       "      <td>N9D2BZQX63</td>\n",
       "      <td>Z8ZTDGUZVU</td>\n",
       "      <td>C3NCA2CL35</td>\n",
       "      <td>E8EOGWOY8S</td>\n",
       "      <td>09KREHTMWL</td>\n",
       "      <td>CP8XYQVGGU</td>\n",
       "      <td>BPSADIOQOK</td>\n",
       "      <td>BSDTR67VD90</td>\n",
       "    </tr>\n",
       "    <tr>\n",
       "      <th>1400</th>\n",
       "      <td>LB3D71C025</td>\n",
       "      <td>ODPMASE7V7</td>\n",
       "      <td>MX180RYSHX</td>\n",
       "      <td>WVPMHZP59U</td>\n",
       "      <td>BHPF2JTNKQ</td>\n",
       "      <td>PEPWA0NCVH</td>\n",
       "      <td>VIBLHHVPMN</td>\n",
       "      <td>H5N71TV8AY</td>\n",
       "      <td>OPSD21HN67</td>\n",
       "    </tr>\n",
       "  </tbody>\n",
       "</table>\n",
       "</div>"
      ],
      "text/plain": [
       "     product_name product_price      weight    category         EAN  \\\n",
       "751    VLPCU81M30    XCD69KUI0K  9GO9NZ5JTL  S1YB74MLMJ  OO7KH8P79I   \n",
       "1133   9SX4G65YUX    N9D2BZQX63  Z8ZTDGUZVU  C3NCA2CL35  E8EOGWOY8S   \n",
       "1400   LB3D71C025    ODPMASE7V7  MX180RYSHX  WVPMHZP59U  BHPF2JTNKQ   \n",
       "\n",
       "      date_added        uuid     removed product_code  \n",
       "751   CCAVRB79VV  7QB0Z9EW1G  T3QRRH7SRP   SDAV678FVD  \n",
       "1133  09KREHTMWL  CP8XYQVGGU  BPSADIOQOK  BSDTR67VD90  \n",
       "1400  PEPWA0NCVH  VIBLHHVPMN  H5N71TV8AY   OPSD21HN67  "
      ]
     },
     "execution_count": 6,
     "metadata": {},
     "output_type": "execute_result"
    }
   ],
   "source": [
    "gibberish_values = ['S1YB74MLMJ', 'C3NCA2CL35', 'WVPMHZP59U']\n",
    "subset_df = df[df.category.isin(gibberish_values)]\n",
    "subset_df"
   ]
  },
  {
   "cell_type": "code",
   "execution_count": 7,
   "metadata": {},
   "outputs": [
    {
     "name": "stdout",
     "output_type": "stream",
     "text": [
      "['1.6kg' '0.48kg' '590g' '540g' '1.91kg' '0.91kg' '0.46kg' '0.38kg'\n",
      " '8.981kg' '1.478kg' '1.2g' '0.66kg' '1.8kg' '1.9kg' '1.725kg' '0.54kg'\n",
      " '0.322kg' '0.71kg' '0.88kg' '0.67kg' '11.076kg' '4kg' '0.385kg' '1.38kg'\n",
      " '2.57kg' '1.35kg' '0.695kg' '1.15kg' '0.98kg' '1.447kg' '1.3625kg'\n",
      " '2.25kg' '0.79kg' '0.8kg' '1.08kg' '2.476kg' '0.137kg' '11.5kg' '0.44kg'\n",
      " '2.75kg' '0.911kg' '0.33kg' '1kg' '0.5kg' '0.45kg' '0.7kg' '0.41kg'\n",
      " '1.3kg' '2kg' '0.34kg' '0.37kg' '0.76kg' '1.18kg' '0.685kg' '1.59kg'\n",
      " '1.4kg' '1.66kg' '13.5kg' '0.745kg' '1.44kg' '0.74kg' '0.660kg' '0.419kg'\n",
      " '0.418kg' '0.470kg' '0.353kg' '0.350kg' '0.96kg' '1.20kg' '1.21kg'\n",
      " '1.02kg' '0.365kg' '0.677kg' '0.55kg' '0.43kg' '0.11kg' '1.23kg' '1.03kg'\n",
      " '0.87kg' '0.39kg' '0.35kg' '0.42kg' '0.27kg' '726g' '0.61kg' '0.864kg'\n",
      " '0.667kg' '0.63kg' '0.72kg' '0.58kg' '0.627kg' '0.3kg' '0.32kg' '0.01kg'\n",
      " '0.650kg' '0.68kg' '0.36kg' '1.395kg' '0.9kg' '0.468kg' '0.687kg'\n",
      " '0.955kg' '0.700kg' '0.900kg' '0.06kg' '0.967kg' '0.03kg' '1.041kg'\n",
      " '0.6kg' '0.65kg' '0.59kg' '0.639kg' '0.649kg' '0.354kg' '1.25kg' '0.16kg'\n",
      " '0.258kg' '0.313kg' '0.08kg' '420g' '1.68kg' '0.718kg' '0.92kg' '0.072kg'\n",
      " '1.7kg' '3kg' '1.2kg' '1.505kg' '1.49kg' '0.492kg' '3.3kg' '3.17kg'\n",
      " '2.565kg' '0.443kg' '1.75kg' '0.21kg' '0.86kg' '0.882kg' '0.4kg' '0.77kg'\n",
      " '2.2kg' '1.27kg' '0.809kg' '0.378kg' '3.1kg' '1.84kg' '0.47kg' nan\n",
      " '1.16kg' '1.1kg' '0.087kg' '0.504kg' '480g' '12 x 100g' '8 x 150g'\n",
      " '6 x 412g' '6 x 400g' '15kg' '160g' '180g' '112g' '120g' '96g' '125g'\n",
      " '110g' '128g' '115g' '170g' '200g' '80g' '130g' '140g' '53g' '500g'\n",
      " '100g' '700g' '750g' '800g' '8 x 85g' '40 x 100g' '12 x 85g' '50g' '300g'\n",
      " '512g' '5.6kg' '6.4kg' '10kg' '14.8kg' '2.9kg' '2.4kg' '6kg' '18.7kg'\n",
      " '11kg' '7.5kg' '4.1kg' '13.7kg' '3.03kg' '3.8kg' '1.071kg' '13kg' '1.5kg'\n",
      " '2.8kg' '6.2kg' '296g' '1.65kg' '1.06kg' '2290g' '1950g' '1675g' '1550g'\n",
      " '1650g' '1450g' '1300g' '1100g' '2200g' '1850g' '1800g' '1500g' '250g'\n",
      " '0.2kg' '1.55kg' '1.40kg' '2100g' '1750g' '0.29kg' '450g' '10.5g' '280g'\n",
      " '230g' '150g' '416g' '163g' '360g' '390g' '1470g' '520g' '270g' '60g'\n",
      " '380g' '350g' '282g' '155g' '2.06kg' '3.2kg' '2.5kg' '10.5kg' '4.3kg'\n",
      " '9kg' '31kg' '12.8kg' '32.1kg' '16.7kg' '23.9kg' '20kg' '11.85kg'\n",
      " '18.5kg' '33kg' '8.2kg' '970g' '2.280kg' '1.280kg' '1.200kg' '1.440kg'\n",
      " '550g' '30g' '1230g' '52g' '45g' '650g' '340g' '265g' '1.09kg' '14g'\n",
      " '998g' '335g' '28kg' '6.25kg' '9.3kg' '28.8kg' '35.5kg' '537g' '375g'\n",
      " '260g' '600g' '61g' '165g' '475g' '26g' '615g' '582g' '430g' '440g'\n",
      " '0.423kg' '0.126kg' '0.22kg' '190g' '370g' '470g' '368g' '410g' '4.6kg'\n",
      " '3.4kg' '2.05kg' '2.1kg' '1.76kg' '2.85kg' '2.36kg' '1.37kg' '1.72kg'\n",
      " '1.73kg' '1.63kg' '0.75kg' '4.53kg' '3.45kg' '2.03kg' '9GO9NZ5JTL'\n",
      " '4.5kg' '12.1kg' '9.4kg' '6.1kg' '4.2kg' '12kg' '21kg' '7.8kg' '5.7kg'\n",
      " '5kg' '1760g' '3.75kg' '4.85kg' '5.5kg' '11.6kg' '10.7kg' '22.5kg'\n",
      " '19.8kg' '8.5kg' '15.5kg' '2.7kg' '27kg' '9.8kg' '12.5kg' '7.3kg' '8.4kg'\n",
      " '5.4kg' '15.8kg' '3.9kg' '6.3kg' '7kg' '6.9kg' '11.2kg' '12.3kg' '11.3kg'\n",
      " '15.6kg' '2.40kg' '2.70kg' '1.32kg' '1.80kg' '2.4g' '1.38g' '3.65kg'\n",
      " '1020g' '1220g' '185g' '887g' '570g' '365g' '0.24kg' '0.51kg' '0.25kg'\n",
      " '0.26kg' '0.81kg' '220g' '310g' '490g' '0.202kg' '630g' 'Z8ZTDGUZVU'\n",
      " '330g' '850g' '936g' '363g' '240g' '856g' '169g' '3.429kg' '2.770kg'\n",
      " '1.870kg' '2.150kg' '1.250kg' '1510g' '1250g' '1700g' '2050g' '1780g'\n",
      " '795g' '320g' '0.28kg' '226g' 'MX180RYSHX' '422g' '184g' '580g' '245g'\n",
      " '7.4kg' '1320g' '1090g' '1.56kg' '1160kg' '1060g' '1580g' '1365g'\n",
      " '2.14kg' '1.782kg' '1.081kg' '0.964kg' '2.66kg' '3.028g' '0.944g' '1.5g'\n",
      " '1.507g' '5.25kg' '3.82kg' '1.95kg' '1.05kg' '1.74kg' '0.89kg' '2.29kg'\n",
      " '810g' '3.85kg' '70g' '100ml' '3 x 2g' '4g' '60ml' '8g' '3 x 90g' '87g'\n",
      " '46g' '95g' '43g' '324g' '152g' '141g' '94g' '351g' '92g' '132g' '105g'\n",
      " '16 x 10g' '425g' '3 x 132g' '5 x 145g' '4 x 400g' '206g' '465g' '395g'\n",
      " '300ml' '800ml' '225g' '167g' '131g' '2 x 200g' '391g' '400g' '275g'\n",
      " '195g' '285g' '248g' '18g' '90g' '216g' '201g' '77g .' '99g' '114g'\n",
      " '0.115kg' '0.196kg' '290g' '3g' '16oz' '274g' '289g' '1.28kg' '820g'\n",
      " '134g']\n"
     ]
    }
   ],
   "source": [
    "print(df.weight.unique())"
   ]
  },
  {
   "cell_type": "code",
   "execution_count": null,
   "metadata": {},
   "outputs": [],
   "source": [
    "def convert_weight(products_df):\n",
    "    try:\n",
    "        if 'x' in products_df:   \n",
    "            numeric_part1, units1, numeric_part2, units2 = re.match(r\"[\\d.]+)\\s*([a-zA-Z]*)\\s*x\\s*([\\d.])\\s*([a-zA-Z]*)\", value).groups()\n",
    "            if not units1:\n",
    "                units1 = units2\n",
    "                result = float(numeric_part1) * float(numeric_part2)\n",
    "                if units1.lower() in ['g', 'gram', 'grams']:\n",
    "                    result /= 1000\n",
    "                elif units1.lower() in ['ml', 'milliliter', 'milliliters']:\n",
    "                    result /= 1000\n",
    "                elif units1.lower() in ['kg', 'kilogram', 'kilograms']:\n",
    "                    pass  # No conversion needed for kg\n",
    "                elif units1.lower() in ['oz', 'ounce', 'ounces']:\n",
    "                    result *= 0.0283495\n",
    "                else:\n",
    "                    # If units are not recognized, return NaN\n",
    "                    return np.nan\n",
    "        else:\n",
    "            numeric_part, units = re.match(r\"([\\d.]+)\\s*([a-zA-Z]*)\", value).groups()\n",
    "            result = float(numeric_part)\n",
    "            if units.lower() in ['g', 'gram', 'grams']:\n",
    "                result /= 1000\n",
    "            elif units.lower() in ['ml', 'milliliter', 'milliliters']:\n",
    "                result /= 1000\n",
    "            elif units.lower() in ['kg', 'kilogram', 'kilograms']:\n",
    "                pass  # No conversion needed for kg\n",
    "            elif units.lower() in ['oz', 'ounce', 'ounces']:\n",
    "                result *= 0.0283495\n",
    "            else:\n",
    "                # If units are not recognised, return NaN\n",
    "                return np.nan\n",
    "            return round(result, 3)\n",
    "    except Exception as e:\n",
    "                    # If any error occurs, return NaN\n",
    "                    return np.nan"
   ]
  },
  {
   "cell_type": "code",
   "execution_count": null,
   "metadata": {},
   "outputs": [],
   "source": [
    "cleaner = DataCleaning()\n",
    "cleaner.clean_products_data()"
   ]
  }
 ],
 "metadata": {
  "kernelspec": {
   "display_name": "mrdc",
   "language": "python",
   "name": "python3"
  },
  "language_info": {
   "codemirror_mode": {
    "name": "ipython",
    "version": 3
   },
   "file_extension": ".py",
   "mimetype": "text/x-python",
   "name": "python",
   "nbconvert_exporter": "python",
   "pygments_lexer": "ipython3",
   "version": "3.12.1"
  }
 },
 "nbformat": 4,
 "nbformat_minor": 2
}
